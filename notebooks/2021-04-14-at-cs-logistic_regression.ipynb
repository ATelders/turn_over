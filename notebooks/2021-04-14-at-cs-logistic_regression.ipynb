{
 "metadata": {
  "language_info": {
   "codemirror_mode": {
    "name": "ipython",
    "version": 3
   },
   "file_extension": ".py",
   "mimetype": "text/x-python",
   "name": "python",
   "nbconvert_exporter": "python",
   "pygments_lexer": "ipython3",
   "version": "3.8.5-final"
  },
  "orig_nbformat": 2,
  "kernelspec": {
   "name": "python385jvsc74a57bd05b9c502b618e97131917a2f1409b4700bb639cdf99ce16cd88a0e27a90524386",
   "display_name": "Python 3.8.5 64-bit ('base': conda)"
  },
  "metadata": {
   "interpreter": {
    "hash": "5b9c502b618e97131917a2f1409b4700bb639cdf99ce16cd88a0e27a90524386"
   }
  }
 },
 "nbformat": 4,
 "nbformat_minor": 2,
 "cells": [
  {
   "source": [
    "### Import the libraries and the data"
   ],
   "cell_type": "markdown",
   "metadata": {}
  },
  {
   "cell_type": "code",
   "execution_count": 170,
   "metadata": {},
   "outputs": [],
   "source": [
    "import pandas as pd\n",
    "import numpy as np\n",
    "import matplotlib.pyplot as plt \n",
    "\n",
    "from sklearn.metrics import confusion_matrix, precision_score, accuracy_score, recall_score, f1_score, auc, roc_auc_score, plot_confusion_matrix, SCORERS\n",
    "from sklearn.compose import ColumnTransformer\n",
    "from sklearn.datasets import fetch_openml\n",
    "from sklearn.pipeline import Pipeline\n",
    "from sklearn.impute import SimpleImputer\n",
    "from sklearn.preprocessing import StandardScaler, OneHotEncoder, LabelEncoder\n",
    "from sklearn.linear_model import LogisticRegression\n",
    "from sklearn.model_selection import train_test_split, GridSearchCV, cross_val_score\n",
    "from sklearn.compose import make_column_selector as selector\n",
    "\n",
    "np.random.seed(0)"
   ]
  },
  {
   "cell_type": "code",
   "execution_count": 171,
   "metadata": {},
   "outputs": [],
   "source": [
    "train_df = pd.read_csv(\"../data/01_raw/attrition_train.csv\")\n",
    "test_df = pd.read_csv(\"../data/01_raw/attrition_test.csv\")"
   ]
  },
  {
   "source": [
    "### Get info about column names, missing values and Dtype"
   ],
   "cell_type": "markdown",
   "metadata": {}
  },
  {
   "cell_type": "code",
   "execution_count": 172,
   "metadata": {},
   "outputs": [
    {
     "output_type": "stream",
     "name": "stdout",
     "text": [
      "<class 'pandas.core.frame.DataFrame'>\nRangeIndex: 1100 entries, 0 to 1099\nData columns (total 35 columns):\n #   Column                    Non-Null Count  Dtype \n---  ------                    --------------  ----- \n 0   Age                       1100 non-null   int64 \n 1   Attrition                 1100 non-null   object\n 2   BusinessTravel            1100 non-null   object\n 3   DailyRate                 1100 non-null   int64 \n 4   Department                1100 non-null   object\n 5   DistanceFromHome          1100 non-null   int64 \n 6   Education                 1100 non-null   int64 \n 7   EducationField            1100 non-null   object\n 8   EmployeeCount             1100 non-null   int64 \n 9   EmployeeNumber            1100 non-null   int64 \n 10  EnvironmentSatisfaction   1100 non-null   int64 \n 11  Gender                    1100 non-null   object\n 12  HourlyRate                1100 non-null   int64 \n 13  JobInvolvement            1100 non-null   int64 \n 14  JobLevel                  1100 non-null   int64 \n 15  JobRole                   1100 non-null   object\n 16  JobSatisfaction           1100 non-null   int64 \n 17  MaritalStatus             1100 non-null   object\n 18  MonthlyIncome             1100 non-null   int64 \n 19  MonthlyRate               1100 non-null   int64 \n 20  NumCompaniesWorked        1100 non-null   int64 \n 21  Over18                    1100 non-null   object\n 22  OverTime                  1100 non-null   object\n 23  PercentSalaryHike         1100 non-null   int64 \n 24  PerformanceRating         1100 non-null   int64 \n 25  RelationshipSatisfaction  1100 non-null   int64 \n 26  StandardHours             1100 non-null   int64 \n 27  StockOptionLevel          1100 non-null   int64 \n 28  TotalWorkingYears         1100 non-null   int64 \n 29  TrainingTimesLastYear     1100 non-null   int64 \n 30  WorkLifeBalance           1100 non-null   int64 \n 31  YearsAtCompany            1100 non-null   int64 \n 32  YearsInCurrentRole        1100 non-null   int64 \n 33  YearsSinceLastPromotion   1100 non-null   int64 \n 34  YearsWithCurrManager      1100 non-null   int64 \ndtypes: int64(26), object(9)\nmemory usage: 300.9+ KB\n"
     ]
    }
   ],
   "source": [
    "train_df.info()"
   ]
  },
  {
   "cell_type": "code",
   "execution_count": 173,
   "metadata": {},
   "outputs": [
    {
     "output_type": "stream",
     "name": "stdout",
     "text": [
      "<class 'pandas.core.frame.DataFrame'>\nRangeIndex: 370 entries, 0 to 369\nData columns (total 35 columns):\n #   Column                    Non-Null Count  Dtype \n---  ------                    --------------  ----- \n 0   Age                       370 non-null    int64 \n 1   BusinessTravel            370 non-null    object\n 2   DailyRate                 370 non-null    int64 \n 3   Department                370 non-null    object\n 4   DistanceFromHome          370 non-null    int64 \n 5   Education                 370 non-null    int64 \n 6   EducationField            370 non-null    object\n 7   EmployeeCount             370 non-null    int64 \n 8   EmployeeNumber            370 non-null    int64 \n 9   EnvironmentSatisfaction   370 non-null    int64 \n 10  Gender                    370 non-null    object\n 11  HourlyRate                370 non-null    int64 \n 12  JobInvolvement            370 non-null    int64 \n 13  JobLevel                  370 non-null    int64 \n 14  JobRole                   370 non-null    object\n 15  JobSatisfaction           370 non-null    int64 \n 16  MaritalStatus             370 non-null    object\n 17  MonthlyIncome             370 non-null    int64 \n 18  MonthlyRate               370 non-null    int64 \n 19  NumCompaniesWorked        370 non-null    int64 \n 20  Over18                    370 non-null    object\n 21  OverTime                  370 non-null    object\n 22  PercentSalaryHike         370 non-null    int64 \n 23  PerformanceRating         370 non-null    int64 \n 24  RelationshipSatisfaction  370 non-null    int64 \n 25  StandardHours             370 non-null    int64 \n 26  StockOptionLevel          370 non-null    int64 \n 27  TotalWorkingYears         370 non-null    int64 \n 28  TrainingTimesLastYear     370 non-null    int64 \n 29  WorkLifeBalance           370 non-null    int64 \n 30  YearsAtCompany            370 non-null    int64 \n 31  YearsInCurrentRole        370 non-null    int64 \n 32  YearsSinceLastPromotion   370 non-null    int64 \n 33  YearsWithCurrManager      370 non-null    int64 \n 34  index1                    370 non-null    int64 \ndtypes: int64(27), object(8)\nmemory usage: 101.3+ KB\n"
     ]
    }
   ],
   "source": [
    "test_df.info()"
   ]
  },
  {
   "source": [
    "### Create X and y dataframes, split them into train and test, get the list of categorical and numeric features."
   ],
   "cell_type": "markdown",
   "metadata": {}
  },
  {
   "cell_type": "code",
   "execution_count": 174,
   "metadata": {},
   "outputs": [],
   "source": [
    "y = train_df.Attrition\n",
    "X = train_df.drop(['Attrition'], axis=1)\n",
    "le = LabelEncoder()\n",
    "y = le.fit_transform(y)\n",
    "X_train, X_test, y_train, y_test = train_test_split(X, y, test_size=0.2, random_state=0)\n",
    "\n",
    "categorical_features = [cname for cname in X_train.columns if \n",
    "                    X_train[cname].dtype == \"object\"]\n",
    "numeric_features = [cname for cname in X_train.columns if \n",
    "                    X_train[cname].dtype == \"int64\"]"
   ]
  },
  {
   "source": [
    "### Preprocess the training data, create the classifier model and fit it with the data."
   ],
   "cell_type": "markdown",
   "metadata": {}
  },
  {
   "cell_type": "code",
   "execution_count": 175,
   "metadata": {},
   "outputs": [
    {
     "output_type": "stream",
     "name": "stdout",
     "text": [
      "model score: 0.868\n"
     ]
    }
   ],
   "source": [
    "numeric_transformer = Pipeline(steps=[\n",
    "    ('scaler', StandardScaler())])\n",
    "\n",
    "categorical_transformer = OneHotEncoder(handle_unknown='ignore')\n",
    "\n",
    "preprocessor = ColumnTransformer(transformers=[\n",
    "    ('num', numeric_transformer, numeric_features),\n",
    "    ('cat', categorical_transformer, categorical_features)\n",
    "])\n",
    "clf = Pipeline(steps=[('preprocessor', preprocessor),\n",
    "                      ('classifier', LogisticRegression(max_iter=500, C=1, penalty='l2', solver='liblinear'))])\n",
    "\n",
    "{'classifier__C': 1,\n",
    " 'classifier__penalty': 'l2',\n",
    " 'classifier__solver': 'liblinear'}\n",
    "\n",
    "\n",
    "\n",
    "clf.fit(X_train, y_train)\n",
    "print(\"model score: %.3f\" % clf.score(X_test, y_test))"
   ]
  },
  {
   "source": [
    "### Get an extended list of numeric features, with the One Hot encoded categorical features."
   ],
   "cell_type": "markdown",
   "metadata": {}
  },
  {
   "cell_type": "code",
   "execution_count": 176,
   "metadata": {},
   "outputs": [],
   "source": [
    "onehot_columns = list(clf.named_steps['preprocessor'].named_transformers_['cat'].get_feature_names(input_features=categorical_features))\n",
    "numeric_features_list = list(numeric_features)\n",
    "numeric_features_list.extend(onehot_columns)"
   ]
  },
  {
   "source": [
    "### Associate the features list to their coefficient in a dataframe, sorted in descending order."
   ],
   "cell_type": "markdown",
   "metadata": {}
  },
  {
   "cell_type": "code",
   "execution_count": 177,
   "metadata": {},
   "outputs": [
    {
     "output_type": "execute_result",
     "data": {
      "text/plain": [
       "                             features      coef\n",
       "27   BusinessTravel_Travel_Frequently  0.856613\n",
       "54                       OverTime_Yes  0.814649\n",
       "48       JobRole_Sales Representative  0.723812\n",
       "24            YearsSinceLastPromotion  0.711698\n",
       "32     EducationField_Human Resources  0.685925\n",
       "22                     YearsAtCompany  0.424453\n",
       "13                 NumCompaniesWorked  0.402899\n",
       "2                    DistanceFromHome  0.397154\n",
       "37    EducationField_Technical Degree  0.347087\n",
       "51               MaritalStatus_Single  0.310205\n",
       "31                   Department_Sales  0.200005\n",
       "7                          HourlyRate  0.134371\n",
       "43                    JobRole_Manager  0.124138\n",
       "40  JobRole_Healthcare Representative  0.087116\n",
       "42      JobRole_Laboratory Technician  0.084363\n",
       "15                  PerformanceRating  0.069604\n",
       "12                        MonthlyRate  0.030581\n",
       "3                           Education  0.013349\n",
       "17                      StandardHours  0.000000\n",
       "4                       EmployeeCount  0.000000\n",
       "39                        Gender_Male -0.025525\n",
       "5                      EmployeeNumber -0.047638\n",
       "45          JobRole_Research Director -0.065909\n",
       "41            JobRole_Human Resources -0.095050\n",
       "1                           DailyRate -0.098588\n",
       "34           EducationField_Marketing -0.110015\n",
       "0                                 Age -0.161029\n",
       "21                    WorkLifeBalance -0.184496\n",
       "14                  PercentSalaryHike -0.206042\n",
       "47            JobRole_Sales Executive -0.267573\n",
       "28       BusinessTravel_Travel_Rarely -0.281172\n",
       "20              TrainingTimesLastYear -0.299836\n",
       "11                      MonthlyIncome -0.310981\n",
       "29         Department_Human Resources -0.313052\n",
       "50              MaritalStatus_Married -0.344729\n",
       "30  Department_Research & Development -0.345274\n",
       "10                    JobSatisfaction -0.356193\n",
       "9                            JobLevel -0.386686\n",
       "18                   StockOptionLevel -0.397956\n",
       "16           RelationshipSatisfaction -0.401950\n",
       "49             MaritalStatus_Divorced -0.423796\n",
       "36               EducationField_Other -0.429505\n",
       "38                      Gender_Female -0.432795\n",
       "23                 YearsInCurrentRole -0.435153\n",
       "8                      JobInvolvement -0.442545\n",
       "35             EducationField_Medical -0.450638\n",
       "44     JobRole_Manufacturing Director -0.456540\n",
       "52                           Over18_Y -0.458320\n",
       "25               YearsWithCurrManager -0.476467\n",
       "19                  TotalWorkingYears -0.494815\n",
       "33       EducationField_Life Sciences -0.501174\n",
       "6             EnvironmentSatisfaction -0.577837\n",
       "46         JobRole_Research Scientist -0.592679\n",
       "26          BusinessTravel_Non-Travel -1.033762\n",
       "53                        OverTime_No -1.272970"
      ],
      "text/html": "<div>\n<style scoped>\n    .dataframe tbody tr th:only-of-type {\n        vertical-align: middle;\n    }\n\n    .dataframe tbody tr th {\n        vertical-align: top;\n    }\n\n    .dataframe thead th {\n        text-align: right;\n    }\n</style>\n<table border=\"1\" class=\"dataframe\">\n  <thead>\n    <tr style=\"text-align: right;\">\n      <th></th>\n      <th>features</th>\n      <th>coef</th>\n    </tr>\n  </thead>\n  <tbody>\n    <tr>\n      <th>27</th>\n      <td>BusinessTravel_Travel_Frequently</td>\n      <td>0.856613</td>\n    </tr>\n    <tr>\n      <th>54</th>\n      <td>OverTime_Yes</td>\n      <td>0.814649</td>\n    </tr>\n    <tr>\n      <th>48</th>\n      <td>JobRole_Sales Representative</td>\n      <td>0.723812</td>\n    </tr>\n    <tr>\n      <th>24</th>\n      <td>YearsSinceLastPromotion</td>\n      <td>0.711698</td>\n    </tr>\n    <tr>\n      <th>32</th>\n      <td>EducationField_Human Resources</td>\n      <td>0.685925</td>\n    </tr>\n    <tr>\n      <th>22</th>\n      <td>YearsAtCompany</td>\n      <td>0.424453</td>\n    </tr>\n    <tr>\n      <th>13</th>\n      <td>NumCompaniesWorked</td>\n      <td>0.402899</td>\n    </tr>\n    <tr>\n      <th>2</th>\n      <td>DistanceFromHome</td>\n      <td>0.397154</td>\n    </tr>\n    <tr>\n      <th>37</th>\n      <td>EducationField_Technical Degree</td>\n      <td>0.347087</td>\n    </tr>\n    <tr>\n      <th>51</th>\n      <td>MaritalStatus_Single</td>\n      <td>0.310205</td>\n    </tr>\n    <tr>\n      <th>31</th>\n      <td>Department_Sales</td>\n      <td>0.200005</td>\n    </tr>\n    <tr>\n      <th>7</th>\n      <td>HourlyRate</td>\n      <td>0.134371</td>\n    </tr>\n    <tr>\n      <th>43</th>\n      <td>JobRole_Manager</td>\n      <td>0.124138</td>\n    </tr>\n    <tr>\n      <th>40</th>\n      <td>JobRole_Healthcare Representative</td>\n      <td>0.087116</td>\n    </tr>\n    <tr>\n      <th>42</th>\n      <td>JobRole_Laboratory Technician</td>\n      <td>0.084363</td>\n    </tr>\n    <tr>\n      <th>15</th>\n      <td>PerformanceRating</td>\n      <td>0.069604</td>\n    </tr>\n    <tr>\n      <th>12</th>\n      <td>MonthlyRate</td>\n      <td>0.030581</td>\n    </tr>\n    <tr>\n      <th>3</th>\n      <td>Education</td>\n      <td>0.013349</td>\n    </tr>\n    <tr>\n      <th>17</th>\n      <td>StandardHours</td>\n      <td>0.000000</td>\n    </tr>\n    <tr>\n      <th>4</th>\n      <td>EmployeeCount</td>\n      <td>0.000000</td>\n    </tr>\n    <tr>\n      <th>39</th>\n      <td>Gender_Male</td>\n      <td>-0.025525</td>\n    </tr>\n    <tr>\n      <th>5</th>\n      <td>EmployeeNumber</td>\n      <td>-0.047638</td>\n    </tr>\n    <tr>\n      <th>45</th>\n      <td>JobRole_Research Director</td>\n      <td>-0.065909</td>\n    </tr>\n    <tr>\n      <th>41</th>\n      <td>JobRole_Human Resources</td>\n      <td>-0.095050</td>\n    </tr>\n    <tr>\n      <th>1</th>\n      <td>DailyRate</td>\n      <td>-0.098588</td>\n    </tr>\n    <tr>\n      <th>34</th>\n      <td>EducationField_Marketing</td>\n      <td>-0.110015</td>\n    </tr>\n    <tr>\n      <th>0</th>\n      <td>Age</td>\n      <td>-0.161029</td>\n    </tr>\n    <tr>\n      <th>21</th>\n      <td>WorkLifeBalance</td>\n      <td>-0.184496</td>\n    </tr>\n    <tr>\n      <th>14</th>\n      <td>PercentSalaryHike</td>\n      <td>-0.206042</td>\n    </tr>\n    <tr>\n      <th>47</th>\n      <td>JobRole_Sales Executive</td>\n      <td>-0.267573</td>\n    </tr>\n    <tr>\n      <th>28</th>\n      <td>BusinessTravel_Travel_Rarely</td>\n      <td>-0.281172</td>\n    </tr>\n    <tr>\n      <th>20</th>\n      <td>TrainingTimesLastYear</td>\n      <td>-0.299836</td>\n    </tr>\n    <tr>\n      <th>11</th>\n      <td>MonthlyIncome</td>\n      <td>-0.310981</td>\n    </tr>\n    <tr>\n      <th>29</th>\n      <td>Department_Human Resources</td>\n      <td>-0.313052</td>\n    </tr>\n    <tr>\n      <th>50</th>\n      <td>MaritalStatus_Married</td>\n      <td>-0.344729</td>\n    </tr>\n    <tr>\n      <th>30</th>\n      <td>Department_Research &amp; Development</td>\n      <td>-0.345274</td>\n    </tr>\n    <tr>\n      <th>10</th>\n      <td>JobSatisfaction</td>\n      <td>-0.356193</td>\n    </tr>\n    <tr>\n      <th>9</th>\n      <td>JobLevel</td>\n      <td>-0.386686</td>\n    </tr>\n    <tr>\n      <th>18</th>\n      <td>StockOptionLevel</td>\n      <td>-0.397956</td>\n    </tr>\n    <tr>\n      <th>16</th>\n      <td>RelationshipSatisfaction</td>\n      <td>-0.401950</td>\n    </tr>\n    <tr>\n      <th>49</th>\n      <td>MaritalStatus_Divorced</td>\n      <td>-0.423796</td>\n    </tr>\n    <tr>\n      <th>36</th>\n      <td>EducationField_Other</td>\n      <td>-0.429505</td>\n    </tr>\n    <tr>\n      <th>38</th>\n      <td>Gender_Female</td>\n      <td>-0.432795</td>\n    </tr>\n    <tr>\n      <th>23</th>\n      <td>YearsInCurrentRole</td>\n      <td>-0.435153</td>\n    </tr>\n    <tr>\n      <th>8</th>\n      <td>JobInvolvement</td>\n      <td>-0.442545</td>\n    </tr>\n    <tr>\n      <th>35</th>\n      <td>EducationField_Medical</td>\n      <td>-0.450638</td>\n    </tr>\n    <tr>\n      <th>44</th>\n      <td>JobRole_Manufacturing Director</td>\n      <td>-0.456540</td>\n    </tr>\n    <tr>\n      <th>52</th>\n      <td>Over18_Y</td>\n      <td>-0.458320</td>\n    </tr>\n    <tr>\n      <th>25</th>\n      <td>YearsWithCurrManager</td>\n      <td>-0.476467</td>\n    </tr>\n    <tr>\n      <th>19</th>\n      <td>TotalWorkingYears</td>\n      <td>-0.494815</td>\n    </tr>\n    <tr>\n      <th>33</th>\n      <td>EducationField_Life Sciences</td>\n      <td>-0.501174</td>\n    </tr>\n    <tr>\n      <th>6</th>\n      <td>EnvironmentSatisfaction</td>\n      <td>-0.577837</td>\n    </tr>\n    <tr>\n      <th>46</th>\n      <td>JobRole_Research Scientist</td>\n      <td>-0.592679</td>\n    </tr>\n    <tr>\n      <th>26</th>\n      <td>BusinessTravel_Non-Travel</td>\n      <td>-1.033762</td>\n    </tr>\n    <tr>\n      <th>53</th>\n      <td>OverTime_No</td>\n      <td>-1.272970</td>\n    </tr>\n  </tbody>\n</table>\n</div>"
     },
     "metadata": {},
     "execution_count": 177
    }
   ],
   "source": [
    "coefs = clf.named_steps['classifier'].coef_\n",
    "features_coef = pd.DataFrame(numeric_features_list)\n",
    "features_coef['coef'] = pd.Series(coefs[0])\n",
    "features_coef.rename(columns={0: \"features\"}, inplace=True)\n",
    "features_coef.sort_values(by='coef', ascending=False)"
   ]
  },
  {
   "cell_type": "code",
   "execution_count": 178,
   "metadata": {},
   "outputs": [
    {
     "output_type": "execute_result",
     "data": {
      "text/plain": [
       "dict_keys(['explained_variance', 'r2', 'max_error', 'neg_median_absolute_error', 'neg_mean_absolute_error', 'neg_mean_squared_error', 'neg_mean_squared_log_error', 'neg_root_mean_squared_error', 'neg_mean_poisson_deviance', 'neg_mean_gamma_deviance', 'accuracy', 'roc_auc', 'roc_auc_ovr', 'roc_auc_ovo', 'roc_auc_ovr_weighted', 'roc_auc_ovo_weighted', 'balanced_accuracy', 'average_precision', 'neg_log_loss', 'neg_brier_score', 'adjusted_rand_score', 'homogeneity_score', 'completeness_score', 'v_measure_score', 'mutual_info_score', 'adjusted_mutual_info_score', 'normalized_mutual_info_score', 'fowlkes_mallows_score', 'precision', 'precision_macro', 'precision_micro', 'precision_samples', 'precision_weighted', 'recall', 'recall_macro', 'recall_micro', 'recall_samples', 'recall_weighted', 'f1', 'f1_macro', 'f1_micro', 'f1_samples', 'f1_weighted', 'jaccard', 'jaccard_macro', 'jaccard_micro', 'jaccard_samples', 'jaccard_weighted'])"
      ]
     },
     "metadata": {},
     "execution_count": 178
    }
   ],
   "source": [
    "SCORERS.keys()"
   ]
  },
  {
   "cell_type": "code",
   "execution_count": 179,
   "metadata": {},
   "outputs": [
    {
     "output_type": "stream",
     "name": "stdout",
     "text": [
      "Average F1 scores:\n 0.5913751817100569\nAverage roc auc scores:\n 0.8499575226176213\nAverage Precision scores:\n 0.7396825396825396\nAverage Recall scores:\n 0.5064039408866995\n"
     ]
    }
   ],
   "source": [
    "f1_scores = cross_val_score(clf, X_train, y_train, cv=5, scoring='f1')\n",
    "roc_auc_scores = cross_val_score(clf, X_train, y_train, cv=5, scoring='roc_auc')\n",
    "precision_scores = cross_val_score(clf, X_train, y_train, cv=5, scoring='precision')\n",
    "recall_scores = cross_val_score(clf, X_train, y_train, cv=5, scoring='recall')\n",
    "\n",
    "\n",
    "print(\"Average F1 scores:\\n\", f1_scores.mean())\n",
    "print(\"Average roc auc scores:\\n\", roc_auc_scores.mean())\n",
    "print(\"Average Precision scores:\\n\", precision_scores.mean())\n",
    "print(\"Average Recall scores:\\n\", recall_scores.mean())\n"
   ]
  },
  {
   "source": [
    "### Recherche des paramètres du modèle de classification par une validation croisée"
   ],
   "cell_type": "markdown",
   "metadata": {}
  },
  {
   "cell_type": "code",
   "execution_count": 180,
   "metadata": {
    "tags": []
   },
   "outputs": [
    {
     "output_type": "stream",
     "name": "stderr",
     "text": [
      "/home/apprenant/anaconda3/lib/python3.8/site-packages/sklearn/linear_model/_sag.py:329: ConvergenceWarning: The max_iter was reached which means the coef_ did not converge\n",
      "  warnings.warn(\"The max_iter was reached which means \"\n",
      "/home/apprenant/anaconda3/lib/python3.8/site-packages/sklearn/linear_model/_sag.py:329: ConvergenceWarning: The max_iter was reached which means the coef_ did not converge\n",
      "  warnings.warn(\"The max_iter was reached which means \"\n",
      "/home/apprenant/anaconda3/lib/python3.8/site-packages/sklearn/linear_model/_sag.py:329: ConvergenceWarning: The max_iter was reached which means the coef_ did not converge\n",
      "  warnings.warn(\"The max_iter was reached which means \"\n",
      "/home/apprenant/anaconda3/lib/python3.8/site-packages/sklearn/linear_model/_sag.py:329: ConvergenceWarning: The max_iter was reached which means the coef_ did not converge\n",
      "  warnings.warn(\"The max_iter was reached which means \"\n",
      "/home/apprenant/anaconda3/lib/python3.8/site-packages/sklearn/linear_model/_sag.py:329: ConvergenceWarning: The max_iter was reached which means the coef_ did not converge\n",
      "  warnings.warn(\"The max_iter was reached which means \"\n",
      "/home/apprenant/anaconda3/lib/python3.8/site-packages/sklearn/linear_model/_sag.py:329: ConvergenceWarning: The max_iter was reached which means the coef_ did not converge\n",
      "  warnings.warn(\"The max_iter was reached which means \"\n",
      "/home/apprenant/anaconda3/lib/python3.8/site-packages/sklearn/linear_model/_sag.py:329: ConvergenceWarning: The max_iter was reached which means the coef_ did not converge\n",
      "  warnings.warn(\"The max_iter was reached which means \"\n",
      "/home/apprenant/anaconda3/lib/python3.8/site-packages/sklearn/linear_model/_sag.py:329: ConvergenceWarning: The max_iter was reached which means the coef_ did not converge\n",
      "  warnings.warn(\"The max_iter was reached which means \"\n",
      "/home/apprenant/anaconda3/lib/python3.8/site-packages/sklearn/linear_model/_sag.py:329: ConvergenceWarning: The max_iter was reached which means the coef_ did not converge\n",
      "  warnings.warn(\"The max_iter was reached which means \"\n",
      "/home/apprenant/anaconda3/lib/python3.8/site-packages/sklearn/linear_model/_sag.py:329: ConvergenceWarning: The max_iter was reached which means the coef_ did not converge\n",
      "  warnings.warn(\"The max_iter was reached which means \"\n",
      "/home/apprenant/anaconda3/lib/python3.8/site-packages/sklearn/linear_model/_sag.py:329: ConvergenceWarning: The max_iter was reached which means the coef_ did not converge\n",
      "  warnings.warn(\"The max_iter was reached which means \"\n",
      "/home/apprenant/anaconda3/lib/python3.8/site-packages/sklearn/linear_model/_sag.py:329: ConvergenceWarning: The max_iter was reached which means the coef_ did not converge\n",
      "  warnings.warn(\"The max_iter was reached which means \"\n",
      "/home/apprenant/anaconda3/lib/python3.8/site-packages/sklearn/linear_model/_sag.py:329: ConvergenceWarning: The max_iter was reached which means the coef_ did not converge\n",
      "  warnings.warn(\"The max_iter was reached which means \"\n",
      "/home/apprenant/anaconda3/lib/python3.8/site-packages/sklearn/linear_model/_sag.py:329: ConvergenceWarning: The max_iter was reached which means the coef_ did not converge\n",
      "  warnings.warn(\"The max_iter was reached which means \"\n",
      "/home/apprenant/anaconda3/lib/python3.8/site-packages/sklearn/linear_model/_sag.py:329: ConvergenceWarning: The max_iter was reached which means the coef_ did not converge\n",
      "  warnings.warn(\"The max_iter was reached which means \"\n",
      "/home/apprenant/anaconda3/lib/python3.8/site-packages/sklearn/linear_model/_sag.py:329: ConvergenceWarning: The max_iter was reached which means the coef_ did not converge\n",
      "  warnings.warn(\"The max_iter was reached which means \"\n",
      "/home/apprenant/anaconda3/lib/python3.8/site-packages/sklearn/linear_model/_sag.py:329: ConvergenceWarning: The max_iter was reached which means the coef_ did not converge\n",
      "  warnings.warn(\"The max_iter was reached which means \"\n",
      "/home/apprenant/anaconda3/lib/python3.8/site-packages/sklearn/linear_model/_sag.py:329: ConvergenceWarning: The max_iter was reached which means the coef_ did not converge\n",
      "  warnings.warn(\"The max_iter was reached which means \"\n",
      "/home/apprenant/anaconda3/lib/python3.8/site-packages/sklearn/linear_model/_sag.py:329: ConvergenceWarning: The max_iter was reached which means the coef_ did not converge\n",
      "  warnings.warn(\"The max_iter was reached which means \"\n",
      "/home/apprenant/anaconda3/lib/python3.8/site-packages/sklearn/linear_model/_sag.py:329: ConvergenceWarning: The max_iter was reached which means the coef_ did not converge\n",
      "  warnings.warn(\"The max_iter was reached which means \"\n"
     ]
    },
    {
     "output_type": "execute_result",
     "data": {
      "text/plain": [
       "GridSearchCV(cv=5,\n",
       "             estimator=Pipeline(steps=[('preprocessor',\n",
       "                                        ColumnTransformer(transformers=[('num',\n",
       "                                                                         Pipeline(steps=[('scaler',\n",
       "                                                                                          StandardScaler())]),\n",
       "                                                                         ['Age',\n",
       "                                                                          'DailyRate',\n",
       "                                                                          'DistanceFromHome',\n",
       "                                                                          'Education',\n",
       "                                                                          'EmployeeCount',\n",
       "                                                                          'EmployeeNumber',\n",
       "                                                                          'EnvironmentSatisfaction',\n",
       "                                                                          'HourlyRate',\n",
       "                                                                          'JobInvolvement',\n",
       "                                                                          'JobLevel',\n",
       "                                                                          'JobSatisfaction',\n",
       "                                                                          'MonthlyIncome',\n",
       "                                                                          'MonthlyRate',\n",
       "                                                                          'NumCom...\n",
       "                                                                         OneHotEncoder(handle_unknown='ignore'),\n",
       "                                                                         ['BusinessTravel',\n",
       "                                                                          'Department',\n",
       "                                                                          'EducationField',\n",
       "                                                                          'Gender',\n",
       "                                                                          'JobRole',\n",
       "                                                                          'MaritalStatus',\n",
       "                                                                          'Over18',\n",
       "                                                                          'OverTime'])])),\n",
       "                                       ('classifier',\n",
       "                                        LogisticRegression(C=1, max_iter=500,\n",
       "                                                           solver='liblinear'))]),\n",
       "             param_grid={'classifier__C': [1, 10, 50, 65, 100],\n",
       "                         'classifier__penalty': ['l2'],\n",
       "                         'classifier__solver': ['newton-cg', 'lbfgs',\n",
       "                                                'liblinear', 'sag']})"
      ]
     },
     "metadata": {},
     "execution_count": 180
    }
   ],
   "source": [
    "param_grid = {\n",
    "    'classifier__C': [1, 10, 50, 65, 100],\n",
    "    'classifier__penalty' : ['l2'],\n",
    "    'classifier__solver' : ['newton-cg', 'lbfgs', 'liblinear', 'sag']\n",
    "\n",
    "}\n",
    "\n",
    "\n",
    "grid_search = GridSearchCV(clf, param_grid, cv=5)\n",
    "\n",
    "grid_search.fit(X_train, y_train)"
   ]
  },
  {
   "cell_type": "code",
   "execution_count": 181,
   "metadata": {},
   "outputs": [
    {
     "output_type": "execute_result",
     "data": {
      "text/plain": [
       "{'classifier__C': 1,\n",
       " 'classifier__penalty': 'l2',\n",
       " 'classifier__solver': 'liblinear'}"
      ]
     },
     "metadata": {},
     "execution_count": 181
    }
   ],
   "source": [
    "grid_search.best_params_"
   ]
  },
  {
   "cell_type": "code",
   "execution_count": 182,
   "metadata": {},
   "outputs": [],
   "source": [
    "#pd.DataFrame(grid_search.cv_results_)"
   ]
  },
  {
   "cell_type": "code",
   "execution_count": 183,
   "metadata": {},
   "outputs": [
    {
     "output_type": "execute_result",
     "data": {
      "text/plain": [
       "dict_keys(['memory', 'steps', 'verbose', 'preprocessor', 'classifier', 'preprocessor__n_jobs', 'preprocessor__remainder', 'preprocessor__sparse_threshold', 'preprocessor__transformer_weights', 'preprocessor__transformers', 'preprocessor__verbose', 'preprocessor__num', 'preprocessor__cat', 'preprocessor__num__memory', 'preprocessor__num__steps', 'preprocessor__num__verbose', 'preprocessor__num__scaler', 'preprocessor__num__scaler__copy', 'preprocessor__num__scaler__with_mean', 'preprocessor__num__scaler__with_std', 'preprocessor__cat__categories', 'preprocessor__cat__drop', 'preprocessor__cat__dtype', 'preprocessor__cat__handle_unknown', 'preprocessor__cat__sparse', 'classifier__C', 'classifier__class_weight', 'classifier__dual', 'classifier__fit_intercept', 'classifier__intercept_scaling', 'classifier__l1_ratio', 'classifier__max_iter', 'classifier__multi_class', 'classifier__n_jobs', 'classifier__penalty', 'classifier__random_state', 'classifier__solver', 'classifier__tol', 'classifier__verbose', 'classifier__warm_start'])"
      ]
     },
     "metadata": {},
     "execution_count": 183
    }
   ],
   "source": [
    "clf.get_params().keys()"
   ]
  },
  {
   "cell_type": "code",
   "execution_count": 184,
   "metadata": {},
   "outputs": [
    {
     "output_type": "execute_result",
     "data": {
      "text/plain": [
       "array([[9.65461157e-01, 3.45388430e-02],\n",
       "       [7.81058010e-01, 2.18941990e-01],\n",
       "       [9.92863483e-01, 7.13651653e-03],\n",
       "       [9.23845056e-01, 7.61549442e-02],\n",
       "       [9.41313662e-01, 5.86863383e-02],\n",
       "       [9.84141410e-01, 1.58585897e-02],\n",
       "       [9.29533580e-01, 7.04664201e-02],\n",
       "       [9.86502155e-01, 1.34978446e-02],\n",
       "       [9.79959208e-01, 2.00407924e-02],\n",
       "       [9.31995467e-01, 6.80045334e-02],\n",
       "       [9.73642915e-01, 2.63570849e-02],\n",
       "       [8.63866790e-01, 1.36133210e-01],\n",
       "       [3.31542112e-01, 6.68457888e-01],\n",
       "       [9.91262804e-01, 8.73719552e-03],\n",
       "       [3.99074098e-01, 6.00925902e-01],\n",
       "       [9.79952285e-01, 2.00477151e-02],\n",
       "       [9.82734365e-01, 1.72656347e-02],\n",
       "       [7.42332140e-01, 2.57667860e-01],\n",
       "       [9.56390900e-01, 4.36090998e-02],\n",
       "       [9.69629287e-01, 3.03707131e-02],\n",
       "       [8.81915975e-01, 1.18084025e-01],\n",
       "       [8.39988927e-01, 1.60011073e-01],\n",
       "       [8.34040396e-01, 1.65959604e-01],\n",
       "       [7.13498427e-01, 2.86501573e-01],\n",
       "       [9.72756769e-01, 2.72432312e-02],\n",
       "       [9.61176705e-01, 3.88232950e-02],\n",
       "       [9.46601286e-01, 5.33987141e-02],\n",
       "       [6.80064290e-01, 3.19935710e-01],\n",
       "       [6.33925345e-01, 3.66074655e-01],\n",
       "       [9.97459041e-01, 2.54095851e-03],\n",
       "       [9.82685879e-01, 1.73141210e-02],\n",
       "       [9.95867467e-01, 4.13253283e-03],\n",
       "       [9.65581449e-01, 3.44185506e-02],\n",
       "       [9.83383939e-01, 1.66160613e-02],\n",
       "       [9.95585396e-01, 4.41460444e-03],\n",
       "       [9.60237964e-01, 3.97620365e-02],\n",
       "       [9.99664373e-01, 3.35627020e-04],\n",
       "       [9.90033791e-01, 9.96620898e-03],\n",
       "       [9.12896709e-01, 8.71032912e-02],\n",
       "       [8.61882802e-02, 9.13811720e-01],\n",
       "       [9.57842847e-01, 4.21571530e-02],\n",
       "       [4.95250306e-01, 5.04749694e-01],\n",
       "       [9.95902208e-01, 4.09779247e-03],\n",
       "       [5.05155693e-01, 4.94844307e-01],\n",
       "       [9.63416078e-01, 3.65839219e-02],\n",
       "       [7.62563218e-01, 2.37436782e-01],\n",
       "       [8.31137789e-01, 1.68862211e-01],\n",
       "       [7.97752470e-01, 2.02247530e-01],\n",
       "       [9.64114681e-01, 3.58853187e-02],\n",
       "       [9.47325886e-01, 5.26741136e-02],\n",
       "       [6.77236617e-01, 3.22763383e-01],\n",
       "       [8.28871219e-01, 1.71128781e-01],\n",
       "       [8.41491365e-01, 1.58508635e-01],\n",
       "       [9.86863773e-01, 1.31362268e-02],\n",
       "       [8.76909630e-01, 1.23090370e-01],\n",
       "       [9.66939004e-01, 3.30609959e-02],\n",
       "       [9.14360078e-01, 8.56399219e-02],\n",
       "       [9.78056329e-01, 2.19436712e-02],\n",
       "       [9.88981457e-01, 1.10185434e-02],\n",
       "       [4.11578885e-01, 5.88421115e-01],\n",
       "       [9.96099731e-01, 3.90026872e-03],\n",
       "       [9.85380369e-01, 1.46196306e-02],\n",
       "       [9.43801242e-01, 5.61987576e-02],\n",
       "       [8.54220763e-01, 1.45779237e-01],\n",
       "       [7.99930859e-01, 2.00069141e-01],\n",
       "       [4.58434565e-01, 5.41565435e-01],\n",
       "       [9.29237193e-01, 7.07628067e-02],\n",
       "       [9.97374725e-01, 2.62527512e-03],\n",
       "       [4.27013853e-01, 5.72986147e-01],\n",
       "       [9.92851338e-01, 7.14866177e-03],\n",
       "       [9.25185404e-01, 7.48145958e-02],\n",
       "       [5.75605130e-01, 4.24394870e-01],\n",
       "       [9.91390506e-01, 8.60949388e-03],\n",
       "       [9.90952398e-01, 9.04760204e-03],\n",
       "       [7.01257549e-01, 2.98742451e-01],\n",
       "       [8.68569282e-01, 1.31430718e-01],\n",
       "       [8.51515118e-01, 1.48484882e-01],\n",
       "       [3.16243517e-01, 6.83756483e-01],\n",
       "       [9.29974554e-01, 7.00254461e-02],\n",
       "       [9.97377897e-01, 2.62210299e-03],\n",
       "       [7.91760040e-01, 2.08239960e-01],\n",
       "       [6.20636426e-01, 3.79363574e-01],\n",
       "       [9.91685395e-01, 8.31460479e-03],\n",
       "       [9.93818674e-01, 6.18132562e-03],\n",
       "       [9.82478691e-01, 1.75213092e-02],\n",
       "       [9.84969334e-01, 1.50306658e-02],\n",
       "       [6.08985051e-01, 3.91014949e-01],\n",
       "       [9.76652489e-01, 2.33475110e-02],\n",
       "       [4.01568287e-01, 5.98431713e-01],\n",
       "       [8.88111999e-01, 1.11888001e-01],\n",
       "       [5.49128392e-01, 4.50871608e-01],\n",
       "       [9.96195805e-01, 3.80419543e-03],\n",
       "       [9.74186339e-01, 2.58136614e-02],\n",
       "       [9.79525576e-01, 2.04744241e-02],\n",
       "       [9.94939599e-02, 9.00506040e-01],\n",
       "       [5.56534787e-01, 4.43465213e-01],\n",
       "       [9.49677928e-01, 5.03220719e-02],\n",
       "       [4.72671294e-01, 5.27328706e-01],\n",
       "       [9.37965197e-01, 6.20348033e-02],\n",
       "       [9.98819012e-01, 1.18098846e-03],\n",
       "       [9.99044872e-01, 9.55127865e-04],\n",
       "       [9.96558894e-01, 3.44110611e-03],\n",
       "       [9.66615323e-01, 3.33846772e-02],\n",
       "       [9.22736465e-01, 7.72635350e-02],\n",
       "       [9.81868577e-01, 1.81314231e-02],\n",
       "       [9.60485184e-01, 3.95148163e-02],\n",
       "       [9.46645557e-01, 5.33544434e-02],\n",
       "       [9.49060809e-01, 5.09391908e-02],\n",
       "       [9.99940703e-01, 5.92969742e-05],\n",
       "       [9.76991773e-01, 2.30082273e-02],\n",
       "       [9.59950348e-01, 4.00496517e-02],\n",
       "       [8.45076014e-01, 1.54923986e-01],\n",
       "       [4.99568072e-01, 5.00431928e-01],\n",
       "       [9.21163366e-01, 7.88366336e-02],\n",
       "       [9.83412246e-01, 1.65877543e-02],\n",
       "       [7.05370567e-01, 2.94629433e-01],\n",
       "       [9.89260300e-01, 1.07396997e-02],\n",
       "       [9.45192409e-01, 5.48075909e-02],\n",
       "       [6.48547861e-01, 3.51452139e-01],\n",
       "       [8.37775460e-01, 1.62224540e-01],\n",
       "       [7.69162812e-01, 2.30837188e-01],\n",
       "       [9.82848726e-01, 1.71512738e-02],\n",
       "       [9.13253778e-01, 8.67462221e-02],\n",
       "       [9.03160624e-01, 9.68393764e-02],\n",
       "       [8.21711557e-01, 1.78288443e-01],\n",
       "       [5.71975303e-01, 4.28024697e-01],\n",
       "       [6.20304786e-01, 3.79695214e-01],\n",
       "       [9.86677441e-01, 1.33225587e-02],\n",
       "       [9.97277861e-01, 2.72213932e-03],\n",
       "       [9.97410328e-01, 2.58967175e-03],\n",
       "       [9.90270200e-01, 9.72980000e-03],\n",
       "       [9.89248404e-01, 1.07515965e-02],\n",
       "       [9.55994827e-01, 4.40051730e-02],\n",
       "       [8.21297509e-01, 1.78702491e-01],\n",
       "       [9.70580000e-01, 2.94200004e-02],\n",
       "       [9.65750643e-01, 3.42493571e-02],\n",
       "       [2.58104002e-01, 7.41895998e-01],\n",
       "       [9.83187913e-01, 1.68120872e-02],\n",
       "       [9.73654364e-01, 2.63456364e-02],\n",
       "       [8.00726198e-01, 1.99273802e-01],\n",
       "       [9.90197691e-01, 9.80230882e-03],\n",
       "       [9.86278869e-01, 1.37211314e-02],\n",
       "       [9.70689594e-01, 2.93104063e-02],\n",
       "       [9.79017098e-01, 2.09829022e-02],\n",
       "       [5.21616767e-01, 4.78383233e-01],\n",
       "       [9.39327400e-01, 6.06726003e-02],\n",
       "       [9.08665577e-01, 9.13344228e-02],\n",
       "       [9.50873141e-01, 4.91268586e-02],\n",
       "       [3.29634554e-01, 6.70365446e-01],\n",
       "       [9.53406020e-01, 4.65939802e-02],\n",
       "       [9.35990262e-01, 6.40097379e-02],\n",
       "       [9.87805141e-01, 1.21948590e-02],\n",
       "       [9.97061631e-01, 2.93836873e-03],\n",
       "       [9.75644546e-01, 2.43554541e-02],\n",
       "       [8.08116145e-01, 1.91883855e-01],\n",
       "       [1.95061859e-01, 8.04938141e-01],\n",
       "       [2.53023871e-01, 7.46976129e-01],\n",
       "       [9.42954820e-01, 5.70451800e-02],\n",
       "       [9.97608235e-01, 2.39176485e-03],\n",
       "       [3.79947680e-01, 6.20052320e-01],\n",
       "       [8.19394947e-01, 1.80605053e-01],\n",
       "       [8.72389213e-01, 1.27610787e-01],\n",
       "       [9.77311940e-01, 2.26880603e-02],\n",
       "       [9.94907039e-01, 5.09296115e-03],\n",
       "       [7.94555225e-01, 2.05444775e-01],\n",
       "       [9.79166569e-01, 2.08334307e-02],\n",
       "       [8.42043214e-01, 1.57956786e-01],\n",
       "       [9.91354116e-01, 8.64588359e-03],\n",
       "       [8.37621387e-01, 1.62378613e-01],\n",
       "       [8.44181552e-01, 1.55818448e-01],\n",
       "       [9.84118854e-01, 1.58811462e-02],\n",
       "       [9.73706965e-01, 2.62930349e-02],\n",
       "       [9.73002221e-01, 2.69977790e-02],\n",
       "       [9.55596464e-01, 4.44035360e-02],\n",
       "       [9.03400409e-01, 9.65995914e-02],\n",
       "       [4.32510732e-01, 5.67489268e-01],\n",
       "       [7.43995406e-01, 2.56004594e-01],\n",
       "       [6.01763829e-01, 3.98236171e-01],\n",
       "       [7.97173241e-01, 2.02826759e-01],\n",
       "       [2.62150874e-01, 7.37849126e-01],\n",
       "       [9.97590394e-01, 2.40960555e-03],\n",
       "       [7.71598461e-01, 2.28401539e-01],\n",
       "       [9.68580767e-01, 3.14192334e-02],\n",
       "       [7.56823158e-01, 2.43176842e-01],\n",
       "       [9.98433630e-01, 1.56637035e-03],\n",
       "       [9.72379011e-01, 2.76209892e-02],\n",
       "       [9.56559968e-01, 4.34400321e-02],\n",
       "       [9.25502926e-01, 7.44970738e-02],\n",
       "       [9.95935856e-01, 4.06414404e-03],\n",
       "       [7.66980688e-01, 2.33019312e-01],\n",
       "       [9.57286775e-01, 4.27132248e-02],\n",
       "       [1.49111098e-01, 8.50888902e-01],\n",
       "       [9.91120642e-01, 8.87935850e-03],\n",
       "       [9.66370602e-01, 3.36293977e-02],\n",
       "       [9.96018597e-01, 3.98140288e-03],\n",
       "       [8.55785062e-01, 1.44214938e-01],\n",
       "       [7.66976436e-01, 2.33023564e-01],\n",
       "       [8.43330431e-01, 1.56669569e-01],\n",
       "       [9.88912425e-01, 1.10875748e-02],\n",
       "       [9.97265516e-01, 2.73448369e-03],\n",
       "       [8.24972914e-01, 1.75027086e-01],\n",
       "       [9.35979004e-01, 6.40209956e-02],\n",
       "       [7.07578130e-01, 2.92421870e-01],\n",
       "       [9.94040415e-01, 5.95958477e-03],\n",
       "       [9.92635496e-01, 7.36450359e-03],\n",
       "       [9.49829905e-01, 5.01700952e-02],\n",
       "       [8.33102395e-01, 1.66897605e-01],\n",
       "       [9.79185122e-01, 2.08148782e-02],\n",
       "       [9.44053618e-01, 5.59463816e-02],\n",
       "       [7.59057329e-01, 2.40942671e-01],\n",
       "       [9.12596427e-01, 8.74035729e-02],\n",
       "       [2.38342519e-01, 7.61657481e-01],\n",
       "       [9.94358683e-01, 5.64131711e-03],\n",
       "       [7.40424703e-01, 2.59575297e-01],\n",
       "       [6.77003356e-01, 3.22996644e-01],\n",
       "       [4.89434883e-01, 5.10565117e-01],\n",
       "       [9.99838319e-01, 1.61681183e-04],\n",
       "       [9.96456195e-01, 3.54380495e-03],\n",
       "       [9.56427548e-01, 4.35724518e-02],\n",
       "       [1.20786242e-01, 8.79213758e-01]])"
      ]
     },
     "metadata": {},
     "execution_count": 184
    }
   ],
   "source": [
    "y_pred_proba = clf.predict_proba(X_test)\n",
    "y_pred_proba"
   ]
  },
  {
   "cell_type": "code",
   "execution_count": 185,
   "metadata": {},
   "outputs": [],
   "source": [
    "y_pred = clf.predict(X_test)"
   ]
  },
  {
   "cell_type": "code",
   "execution_count": 186,
   "metadata": {},
   "outputs": [],
   "source": [
    "tn, fp, fn, tp = confusion_matrix(y_test, y_pred).ravel()"
   ]
  },
  {
   "cell_type": "code",
   "execution_count": 187,
   "metadata": {},
   "outputs": [
    {
     "output_type": "execute_result",
     "data": {
      "text/plain": [
       "array([[176,   8],\n",
       "       [ 21,  15]])"
      ]
     },
     "metadata": {},
     "execution_count": 187
    }
   ],
   "source": [
    "confusion_matrix(y_test, y_pred)"
   ]
  },
  {
   "cell_type": "code",
   "execution_count": 188,
   "metadata": {},
   "outputs": [
    {
     "output_type": "stream",
     "name": "stdout",
     "text": [
      "Sur les 220 salariés du jeu de données test :\n\nLe nombre de personnes qui ont quitté l'entreprise est : 36\nLe nombre de personnes dont on a prédit qu'il allaient quitter l'entreprise: 23\nLe nombre de personnes qui sont restées dans l'entreprise: 184\nLe nombre de cas total où on s'est trompé: 29\nLe nombre de cas où on s'est trompé sur des personnes qui avaient l'intention de partir: 21\nLe nombre de cas où on s'est trompé sur des personnes qui voulaient rester: 8\n"
     ]
    }
   ],
   "source": [
    "print(\"Sur les 220 salariés du jeu de données test :\\n\")\n",
    "print(\"Le nombre de personnes qui ont quitté l'entreprise est : {}\".format(fn + tp))\n",
    "print(\"Le nombre de personnes dont on a prédit qu'il allaient quitter l'entreprise: {}\".format(tp + fp))\n",
    "print(\"Le nombre de personnes qui sont restées dans l'entreprise: {}\".format(tn + fp))\n",
    "print(\"Le nombre de cas total où on s'est trompé: {}\".format(fn + fp))\n",
    "print(\"Le nombre de cas où on s'est trompé sur des personnes qui avaient l'intention de partir: {}\".format(fn))\n",
    "print(\"Le nombre de cas où on s'est trompé sur des personnes qui voulaient rester: {}\".format(fp))\n"
   ]
  },
  {
   "source": [
    "### Calcul des métriques"
   ],
   "cell_type": "markdown",
   "metadata": {}
  },
  {
   "cell_type": "code",
   "execution_count": 189,
   "metadata": {},
   "outputs": [
    {
     "output_type": "stream",
     "name": "stdout",
     "text": [
      "Métriques calculées par sklearn.metrics\n\nPrécision : 0.652\nAccuracy : 0.868\nRappel (ou sensibilité) : 0.417\nF-measure : 0.508\n\nMétriques recalculées\n\nPrécision : 0.6521739130434783\nAccuracy : 0.8681818181818182\nRappel (ou sensibilité) : 0.4166666666666667\nSpécificité : 0.9565217391304348\nF-measure : 0.5084745762711864\n\n"
     ]
    }
   ],
   "source": [
    "print(\"Métriques calculées par sklearn.metrics\\n\")\n",
    "print(\"Précision : %.3f\" % precision_score(y_test, y_pred))\n",
    "print(\"Accuracy : %.3f\" % accuracy_score(y_test, y_pred))\n",
    "print(\"Rappel (ou sensibilité) : %.3f\" % recall_score(y_test, y_pred))\n",
    "print(\"F-measure : %.3f\\n\" % f1_score(y_test, y_pred))\n",
    "\n",
    "print(\"Métriques recalculées\\n\")\n",
    "print(\"Précision : {}\".format(tp /(tp + fp)))\n",
    "print(\"Accuracy : {}\".format((tp + tn) /(tp + fp + tn + fn)))\n",
    "print(\"Rappel (ou sensibilité) : {}\".format(tp /(tp + fn)))\n",
    "print(\"Spécificité : {}\".format(tn /(fp + tn)))\n",
    "print(\"F-measure : {}\\n\".format(2*tp /(2*tp + fp + fn)))\n"
   ]
  },
  {
   "cell_type": "code",
   "execution_count": 190,
   "metadata": {},
   "outputs": [
    {
     "output_type": "display_data",
     "data": {
      "text/plain": "<Figure size 432x288 with 2 Axes>",
      "image/svg+xml": "<?xml version=\"1.0\" encoding=\"utf-8\" standalone=\"no\"?>\n<!DOCTYPE svg PUBLIC \"-//W3C//DTD SVG 1.1//EN\"\n  \"http://www.w3.org/Graphics/SVG/1.1/DTD/svg11.dtd\">\n<!-- Created with matplotlib (https://matplotlib.org/) -->\n<svg height=\"262.19625pt\" version=\"1.1\" viewBox=\"0 0 312.580125 262.19625\" width=\"312.580125pt\" xmlns=\"http://www.w3.org/2000/svg\" xmlns:xlink=\"http://www.w3.org/1999/xlink\">\n <metadata>\n  <rdf:RDF xmlns:cc=\"http://creativecommons.org/ns#\" xmlns:dc=\"http://purl.org/dc/elements/1.1/\" xmlns:rdf=\"http://www.w3.org/1999/02/22-rdf-syntax-ns#\">\n   <cc:Work>\n    <dc:type rdf:resource=\"http://purl.org/dc/dcmitype/StillImage\"/>\n    <dc:date>2021-04-16T16:46:44.674468</dc:date>\n    <dc:format>image/svg+xml</dc:format>\n    <dc:creator>\n     <cc:Agent>\n      <dc:title>Matplotlib v3.3.2, https://matplotlib.org/</dc:title>\n     </cc:Agent>\n    </dc:creator>\n   </cc:Work>\n  </rdf:RDF>\n </metadata>\n <defs>\n  <style type=\"text/css\">*{stroke-linecap:butt;stroke-linejoin:round;}</style>\n </defs>\n <g id=\"figure_1\">\n  <g id=\"patch_1\">\n   <path d=\"M 0 262.19625 \nL 312.580125 262.19625 \nL 312.580125 0 \nL 0 0 \nz\n\" style=\"fill:none;\"/>\n  </g>\n  <g id=\"axes_1\">\n   <g id=\"patch_2\">\n    <path d=\"M 34.240625 224.64 \nL 251.680625 224.64 \nL 251.680625 7.2 \nL 34.240625 7.2 \nz\n\" style=\"fill:#ffffff;\"/>\n   </g>\n   <g clip-path=\"url(#p364fa3631b)\">\n    <image height=\"218\" id=\"image831a69e69a\" transform=\"scale(1 -1)translate(0 -218)\" width=\"218\" x=\"34.240625\" xlink:href=\"data:image/png;base64,\niVBORw0KGgoAAAANSUhEUgAAANoAAADaCAYAAADAHVzbAAACl0lEQVR4nO3VQQ0CQQAEQQ4ZhCcCcAFqzvYJgC9ZNOynN4QqBfPpzPa87uPETxmv9+oJTDqvHgD/QGgQEBoEhAYBoUFAaBAQGgSEBgGhQUBoEBAaBIQGAaFBQGgQEBoEhAYBoUFAaBAQGgSEBgGhQUBoEBAaBIQGAaFBQGgQEBoEhAYBoUFAaBAQGgSEBgGhQUBoEBAaBIQGAaFBQGgQEBoEhAYBoUFAaBAQGgSEBgGhQUBoEBAaBIQGAaFBQGgQEBoEhAYBoUFAaBAQGgSEBgGhQUBoEBAaBIQGAaFBQGgQEBoEhAYBoUFAaBAQGgSEBgGhQUBoEBAaBIQGAaFBQGgQEBoEhAYBoUFAaBAQGgSEBgGhQUBoEBAaBIQGAaFBQGgQEBoEhAYBoUFAaBAQGgSEBgGhQUBoEBAaBIQGAaFBQGgQEBoEhAYBoUFAaBAQGgSEBgGhQUBoEBAaBIQGge1z3MbqEcx5XO6rJzDJo0FAaBAQGgSEBgGhQUBoEBAaBIQGAaFBQGgQEBoEhAYBoUFAaBAQGgSEBgGhQUBoEBAaBIQGAaFBQGgQEBoEhAYBoUFAaBAQGgSEBgGhQUBoEBAaBIQGAaFBQGgQEBoEhAYBoUFAaBAQGgSEBgGhQUBoEBAaBIQGAaFBQGgQEBoEhAYBoUFAaBAQGgSEBgGhQUBoEBAaBIQGAaFBQGgQEBoEhAYBoUFAaBAQGgSEBgGhQUBoEBAaBIQGAaFBQGgQEBoEhAYBoUFAaBAQGgSEBgGhQUBoEBAaBIQGAaFBQGgQEBoEhAYBoUFAaBAQGgSEBgGhQUBoEBAaBIQGAaFBQGgQEBoEhAYBoUFAaBAQGgSEBgGhQUBoEBAaBIQGAaFBQGgQEBoEhAaBL7FICgIexQXbAAAAAElFTkSuQmCC\" y=\"-6.64\"/>\n   </g>\n   <g id=\"matplotlib.axis_1\">\n    <g id=\"xtick_1\">\n     <g id=\"line2d_1\">\n      <defs>\n       <path d=\"M 0 0 \nL 0 3.5 \n\" id=\"m81718b9769\" style=\"stroke:#000000;stroke-width:0.8;\"/>\n      </defs>\n      <g>\n       <use style=\"stroke:#000000;stroke-width:0.8;\" x=\"88.600625\" xlink:href=\"#m81718b9769\" y=\"224.64\"/>\n      </g>\n     </g>\n     <g id=\"text_1\">\n      <!-- 0 -->\n      <g transform=\"translate(85.419375 239.238437)scale(0.1 -0.1)\">\n       <defs>\n        <path d=\"M 31.78125 66.40625 \nQ 24.171875 66.40625 20.328125 58.90625 \nQ 16.5 51.421875 16.5 36.375 \nQ 16.5 21.390625 20.328125 13.890625 \nQ 24.171875 6.390625 31.78125 6.390625 \nQ 39.453125 6.390625 43.28125 13.890625 \nQ 47.125 21.390625 47.125 36.375 \nQ 47.125 51.421875 43.28125 58.90625 \nQ 39.453125 66.40625 31.78125 66.40625 \nz\nM 31.78125 74.21875 \nQ 44.046875 74.21875 50.515625 64.515625 \nQ 56.984375 54.828125 56.984375 36.375 \nQ 56.984375 17.96875 50.515625 8.265625 \nQ 44.046875 -1.421875 31.78125 -1.421875 \nQ 19.53125 -1.421875 13.0625 8.265625 \nQ 6.59375 17.96875 6.59375 36.375 \nQ 6.59375 54.828125 13.0625 64.515625 \nQ 19.53125 74.21875 31.78125 74.21875 \nz\n\" id=\"DejaVuSans-48\"/>\n       </defs>\n       <use xlink:href=\"#DejaVuSans-48\"/>\n      </g>\n     </g>\n    </g>\n    <g id=\"xtick_2\">\n     <g id=\"line2d_2\">\n      <g>\n       <use style=\"stroke:#000000;stroke-width:0.8;\" x=\"197.320625\" xlink:href=\"#m81718b9769\" y=\"224.64\"/>\n      </g>\n     </g>\n     <g id=\"text_2\">\n      <!-- 1 -->\n      <g transform=\"translate(194.139375 239.238437)scale(0.1 -0.1)\">\n       <defs>\n        <path d=\"M 12.40625 8.296875 \nL 28.515625 8.296875 \nL 28.515625 63.921875 \nL 10.984375 60.40625 \nL 10.984375 69.390625 \nL 28.421875 72.90625 \nL 38.28125 72.90625 \nL 38.28125 8.296875 \nL 54.390625 8.296875 \nL 54.390625 0 \nL 12.40625 0 \nz\n\" id=\"DejaVuSans-49\"/>\n       </defs>\n       <use xlink:href=\"#DejaVuSans-49\"/>\n      </g>\n     </g>\n    </g>\n    <g id=\"text_3\">\n     <!-- Predicted label -->\n     <g transform=\"translate(105.808281 252.916562)scale(0.1 -0.1)\">\n      <defs>\n       <path d=\"M 19.671875 64.796875 \nL 19.671875 37.40625 \nL 32.078125 37.40625 \nQ 38.96875 37.40625 42.71875 40.96875 \nQ 46.484375 44.53125 46.484375 51.125 \nQ 46.484375 57.671875 42.71875 61.234375 \nQ 38.96875 64.796875 32.078125 64.796875 \nz\nM 9.8125 72.90625 \nL 32.078125 72.90625 \nQ 44.34375 72.90625 50.609375 67.359375 \nQ 56.890625 61.8125 56.890625 51.125 \nQ 56.890625 40.328125 50.609375 34.8125 \nQ 44.34375 29.296875 32.078125 29.296875 \nL 19.671875 29.296875 \nL 19.671875 0 \nL 9.8125 0 \nz\n\" id=\"DejaVuSans-80\"/>\n       <path d=\"M 41.109375 46.296875 \nQ 39.59375 47.171875 37.8125 47.578125 \nQ 36.03125 48 33.890625 48 \nQ 26.265625 48 22.1875 43.046875 \nQ 18.109375 38.09375 18.109375 28.8125 \nL 18.109375 0 \nL 9.078125 0 \nL 9.078125 54.6875 \nL 18.109375 54.6875 \nL 18.109375 46.1875 \nQ 20.953125 51.171875 25.484375 53.578125 \nQ 30.03125 56 36.53125 56 \nQ 37.453125 56 38.578125 55.875 \nQ 39.703125 55.765625 41.0625 55.515625 \nz\n\" id=\"DejaVuSans-114\"/>\n       <path d=\"M 56.203125 29.59375 \nL 56.203125 25.203125 \nL 14.890625 25.203125 \nQ 15.484375 15.921875 20.484375 11.0625 \nQ 25.484375 6.203125 34.421875 6.203125 \nQ 39.59375 6.203125 44.453125 7.46875 \nQ 49.3125 8.734375 54.109375 11.28125 \nL 54.109375 2.78125 \nQ 49.265625 0.734375 44.1875 -0.34375 \nQ 39.109375 -1.421875 33.890625 -1.421875 \nQ 20.796875 -1.421875 13.15625 6.1875 \nQ 5.515625 13.8125 5.515625 26.8125 \nQ 5.515625 40.234375 12.765625 48.109375 \nQ 20.015625 56 32.328125 56 \nQ 43.359375 56 49.78125 48.890625 \nQ 56.203125 41.796875 56.203125 29.59375 \nz\nM 47.21875 32.234375 \nQ 47.125 39.59375 43.09375 43.984375 \nQ 39.0625 48.390625 32.421875 48.390625 \nQ 24.90625 48.390625 20.390625 44.140625 \nQ 15.875 39.890625 15.1875 32.171875 \nz\n\" id=\"DejaVuSans-101\"/>\n       <path d=\"M 45.40625 46.390625 \nL 45.40625 75.984375 \nL 54.390625 75.984375 \nL 54.390625 0 \nL 45.40625 0 \nL 45.40625 8.203125 \nQ 42.578125 3.328125 38.25 0.953125 \nQ 33.9375 -1.421875 27.875 -1.421875 \nQ 17.96875 -1.421875 11.734375 6.484375 \nQ 5.515625 14.40625 5.515625 27.296875 \nQ 5.515625 40.1875 11.734375 48.09375 \nQ 17.96875 56 27.875 56 \nQ 33.9375 56 38.25 53.625 \nQ 42.578125 51.265625 45.40625 46.390625 \nz\nM 14.796875 27.296875 \nQ 14.796875 17.390625 18.875 11.75 \nQ 22.953125 6.109375 30.078125 6.109375 \nQ 37.203125 6.109375 41.296875 11.75 \nQ 45.40625 17.390625 45.40625 27.296875 \nQ 45.40625 37.203125 41.296875 42.84375 \nQ 37.203125 48.484375 30.078125 48.484375 \nQ 22.953125 48.484375 18.875 42.84375 \nQ 14.796875 37.203125 14.796875 27.296875 \nz\n\" id=\"DejaVuSans-100\"/>\n       <path d=\"M 9.421875 54.6875 \nL 18.40625 54.6875 \nL 18.40625 0 \nL 9.421875 0 \nz\nM 9.421875 75.984375 \nL 18.40625 75.984375 \nL 18.40625 64.59375 \nL 9.421875 64.59375 \nz\n\" id=\"DejaVuSans-105\"/>\n       <path d=\"M 48.78125 52.59375 \nL 48.78125 44.1875 \nQ 44.96875 46.296875 41.140625 47.34375 \nQ 37.3125 48.390625 33.40625 48.390625 \nQ 24.65625 48.390625 19.8125 42.84375 \nQ 14.984375 37.3125 14.984375 27.296875 \nQ 14.984375 17.28125 19.8125 11.734375 \nQ 24.65625 6.203125 33.40625 6.203125 \nQ 37.3125 6.203125 41.140625 7.25 \nQ 44.96875 8.296875 48.78125 10.40625 \nL 48.78125 2.09375 \nQ 45.015625 0.34375 40.984375 -0.53125 \nQ 36.96875 -1.421875 32.421875 -1.421875 \nQ 20.0625 -1.421875 12.78125 6.34375 \nQ 5.515625 14.109375 5.515625 27.296875 \nQ 5.515625 40.671875 12.859375 48.328125 \nQ 20.21875 56 33.015625 56 \nQ 37.15625 56 41.109375 55.140625 \nQ 45.0625 54.296875 48.78125 52.59375 \nz\n\" id=\"DejaVuSans-99\"/>\n       <path d=\"M 18.3125 70.21875 \nL 18.3125 54.6875 \nL 36.8125 54.6875 \nL 36.8125 47.703125 \nL 18.3125 47.703125 \nL 18.3125 18.015625 \nQ 18.3125 11.328125 20.140625 9.421875 \nQ 21.96875 7.515625 27.59375 7.515625 \nL 36.8125 7.515625 \nL 36.8125 0 \nL 27.59375 0 \nQ 17.1875 0 13.234375 3.875 \nQ 9.28125 7.765625 9.28125 18.015625 \nL 9.28125 47.703125 \nL 2.6875 47.703125 \nL 2.6875 54.6875 \nL 9.28125 54.6875 \nL 9.28125 70.21875 \nz\n\" id=\"DejaVuSans-116\"/>\n       <path id=\"DejaVuSans-32\"/>\n       <path d=\"M 9.421875 75.984375 \nL 18.40625 75.984375 \nL 18.40625 0 \nL 9.421875 0 \nz\n\" id=\"DejaVuSans-108\"/>\n       <path d=\"M 34.28125 27.484375 \nQ 23.390625 27.484375 19.1875 25 \nQ 14.984375 22.515625 14.984375 16.5 \nQ 14.984375 11.71875 18.140625 8.90625 \nQ 21.296875 6.109375 26.703125 6.109375 \nQ 34.1875 6.109375 38.703125 11.40625 \nQ 43.21875 16.703125 43.21875 25.484375 \nL 43.21875 27.484375 \nz\nM 52.203125 31.203125 \nL 52.203125 0 \nL 43.21875 0 \nL 43.21875 8.296875 \nQ 40.140625 3.328125 35.546875 0.953125 \nQ 30.953125 -1.421875 24.3125 -1.421875 \nQ 15.921875 -1.421875 10.953125 3.296875 \nQ 6 8.015625 6 15.921875 \nQ 6 25.140625 12.171875 29.828125 \nQ 18.359375 34.515625 30.609375 34.515625 \nL 43.21875 34.515625 \nL 43.21875 35.40625 \nQ 43.21875 41.609375 39.140625 45 \nQ 35.0625 48.390625 27.6875 48.390625 \nQ 23 48.390625 18.546875 47.265625 \nQ 14.109375 46.140625 10.015625 43.890625 \nL 10.015625 52.203125 \nQ 14.9375 54.109375 19.578125 55.046875 \nQ 24.21875 56 28.609375 56 \nQ 40.484375 56 46.34375 49.84375 \nQ 52.203125 43.703125 52.203125 31.203125 \nz\n\" id=\"DejaVuSans-97\"/>\n       <path d=\"M 48.6875 27.296875 \nQ 48.6875 37.203125 44.609375 42.84375 \nQ 40.53125 48.484375 33.40625 48.484375 \nQ 26.265625 48.484375 22.1875 42.84375 \nQ 18.109375 37.203125 18.109375 27.296875 \nQ 18.109375 17.390625 22.1875 11.75 \nQ 26.265625 6.109375 33.40625 6.109375 \nQ 40.53125 6.109375 44.609375 11.75 \nQ 48.6875 17.390625 48.6875 27.296875 \nz\nM 18.109375 46.390625 \nQ 20.953125 51.265625 25.265625 53.625 \nQ 29.59375 56 35.59375 56 \nQ 45.5625 56 51.78125 48.09375 \nQ 58.015625 40.1875 58.015625 27.296875 \nQ 58.015625 14.40625 51.78125 6.484375 \nQ 45.5625 -1.421875 35.59375 -1.421875 \nQ 29.59375 -1.421875 25.265625 0.953125 \nQ 20.953125 3.328125 18.109375 8.203125 \nL 18.109375 0 \nL 9.078125 0 \nL 9.078125 75.984375 \nL 18.109375 75.984375 \nz\n\" id=\"DejaVuSans-98\"/>\n      </defs>\n      <use xlink:href=\"#DejaVuSans-80\"/>\n      <use x=\"58.552734\" xlink:href=\"#DejaVuSans-114\"/>\n      <use x=\"97.416016\" xlink:href=\"#DejaVuSans-101\"/>\n      <use x=\"158.939453\" xlink:href=\"#DejaVuSans-100\"/>\n      <use x=\"222.416016\" xlink:href=\"#DejaVuSans-105\"/>\n      <use x=\"250.199219\" xlink:href=\"#DejaVuSans-99\"/>\n      <use x=\"305.179688\" xlink:href=\"#DejaVuSans-116\"/>\n      <use x=\"344.388672\" xlink:href=\"#DejaVuSans-101\"/>\n      <use x=\"405.912109\" xlink:href=\"#DejaVuSans-100\"/>\n      <use x=\"469.388672\" xlink:href=\"#DejaVuSans-32\"/>\n      <use x=\"501.175781\" xlink:href=\"#DejaVuSans-108\"/>\n      <use x=\"528.958984\" xlink:href=\"#DejaVuSans-97\"/>\n      <use x=\"590.238281\" xlink:href=\"#DejaVuSans-98\"/>\n      <use x=\"653.714844\" xlink:href=\"#DejaVuSans-101\"/>\n      <use x=\"715.238281\" xlink:href=\"#DejaVuSans-108\"/>\n     </g>\n    </g>\n   </g>\n   <g id=\"matplotlib.axis_2\">\n    <g id=\"ytick_1\">\n     <g id=\"line2d_3\">\n      <defs>\n       <path d=\"M 0 0 \nL -3.5 0 \n\" id=\"mace0c81aa4\" style=\"stroke:#000000;stroke-width:0.8;\"/>\n      </defs>\n      <g>\n       <use style=\"stroke:#000000;stroke-width:0.8;\" x=\"34.240625\" xlink:href=\"#mace0c81aa4\" y=\"61.56\"/>\n      </g>\n     </g>\n     <g id=\"text_4\">\n      <!-- 0 -->\n      <g transform=\"translate(20.878125 65.359219)scale(0.1 -0.1)\">\n       <use xlink:href=\"#DejaVuSans-48\"/>\n      </g>\n     </g>\n    </g>\n    <g id=\"ytick_2\">\n     <g id=\"line2d_4\">\n      <g>\n       <use style=\"stroke:#000000;stroke-width:0.8;\" x=\"34.240625\" xlink:href=\"#mace0c81aa4\" y=\"170.28\"/>\n      </g>\n     </g>\n     <g id=\"text_5\">\n      <!-- 1 -->\n      <g transform=\"translate(20.878125 174.079219)scale(0.1 -0.1)\">\n       <use xlink:href=\"#DejaVuSans-49\"/>\n      </g>\n     </g>\n    </g>\n    <g id=\"text_6\">\n     <!-- True label -->\n     <g transform=\"translate(14.798437 140.219219)rotate(-90)scale(0.1 -0.1)\">\n      <defs>\n       <path d=\"M -0.296875 72.90625 \nL 61.375 72.90625 \nL 61.375 64.59375 \nL 35.5 64.59375 \nL 35.5 0 \nL 25.59375 0 \nL 25.59375 64.59375 \nL -0.296875 64.59375 \nz\n\" id=\"DejaVuSans-84\"/>\n       <path d=\"M 8.5 21.578125 \nL 8.5 54.6875 \nL 17.484375 54.6875 \nL 17.484375 21.921875 \nQ 17.484375 14.15625 20.5 10.265625 \nQ 23.53125 6.390625 29.59375 6.390625 \nQ 36.859375 6.390625 41.078125 11.03125 \nQ 45.3125 15.671875 45.3125 23.6875 \nL 45.3125 54.6875 \nL 54.296875 54.6875 \nL 54.296875 0 \nL 45.3125 0 \nL 45.3125 8.40625 \nQ 42.046875 3.421875 37.71875 1 \nQ 33.40625 -1.421875 27.6875 -1.421875 \nQ 18.265625 -1.421875 13.375 4.4375 \nQ 8.5 10.296875 8.5 21.578125 \nz\nM 31.109375 56 \nz\n\" id=\"DejaVuSans-117\"/>\n      </defs>\n      <use xlink:href=\"#DejaVuSans-84\"/>\n      <use x=\"46.333984\" xlink:href=\"#DejaVuSans-114\"/>\n      <use x=\"87.447266\" xlink:href=\"#DejaVuSans-117\"/>\n      <use x=\"150.826172\" xlink:href=\"#DejaVuSans-101\"/>\n      <use x=\"212.349609\" xlink:href=\"#DejaVuSans-32\"/>\n      <use x=\"244.136719\" xlink:href=\"#DejaVuSans-108\"/>\n      <use x=\"271.919922\" xlink:href=\"#DejaVuSans-97\"/>\n      <use x=\"333.199219\" xlink:href=\"#DejaVuSans-98\"/>\n      <use x=\"396.675781\" xlink:href=\"#DejaVuSans-101\"/>\n      <use x=\"458.199219\" xlink:href=\"#DejaVuSans-108\"/>\n     </g>\n    </g>\n   </g>\n   <g id=\"patch_3\">\n    <path d=\"M 34.240625 224.64 \nL 34.240625 7.2 \n\" style=\"fill:none;stroke:#000000;stroke-linecap:square;stroke-linejoin:miter;stroke-width:0.8;\"/>\n   </g>\n   <g id=\"patch_4\">\n    <path d=\"M 251.680625 224.64 \nL 251.680625 7.2 \n\" style=\"fill:none;stroke:#000000;stroke-linecap:square;stroke-linejoin:miter;stroke-width:0.8;\"/>\n   </g>\n   <g id=\"patch_5\">\n    <path d=\"M 34.240625 224.64 \nL 251.680625 224.64 \n\" style=\"fill:none;stroke:#000000;stroke-linecap:square;stroke-linejoin:miter;stroke-width:0.8;\"/>\n   </g>\n   <g id=\"patch_6\">\n    <path d=\"M 34.240625 7.2 \nL 251.680625 7.2 \n\" style=\"fill:none;stroke:#000000;stroke-linecap:square;stroke-linejoin:miter;stroke-width:0.8;\"/>\n   </g>\n   <g id=\"text_7\">\n    <!-- 176 -->\n    <g style=\"fill:#440154;\" transform=\"translate(79.056875 64.319375)scale(0.1 -0.1)\">\n     <defs>\n      <path d=\"M 8.203125 72.90625 \nL 55.078125 72.90625 \nL 55.078125 68.703125 \nL 28.609375 0 \nL 18.3125 0 \nL 43.21875 64.59375 \nL 8.203125 64.59375 \nz\n\" id=\"DejaVuSans-55\"/>\n      <path d=\"M 33.015625 40.375 \nQ 26.375 40.375 22.484375 35.828125 \nQ 18.609375 31.296875 18.609375 23.390625 \nQ 18.609375 15.53125 22.484375 10.953125 \nQ 26.375 6.390625 33.015625 6.390625 \nQ 39.65625 6.390625 43.53125 10.953125 \nQ 47.40625 15.53125 47.40625 23.390625 \nQ 47.40625 31.296875 43.53125 35.828125 \nQ 39.65625 40.375 33.015625 40.375 \nz\nM 52.59375 71.296875 \nL 52.59375 62.3125 \nQ 48.875 64.0625 45.09375 64.984375 \nQ 41.3125 65.921875 37.59375 65.921875 \nQ 27.828125 65.921875 22.671875 59.328125 \nQ 17.53125 52.734375 16.796875 39.40625 \nQ 19.671875 43.65625 24.015625 45.921875 \nQ 28.375 48.1875 33.59375 48.1875 \nQ 44.578125 48.1875 50.953125 41.515625 \nQ 57.328125 34.859375 57.328125 23.390625 \nQ 57.328125 12.15625 50.6875 5.359375 \nQ 44.046875 -1.421875 33.015625 -1.421875 \nQ 20.359375 -1.421875 13.671875 8.265625 \nQ 6.984375 17.96875 6.984375 36.375 \nQ 6.984375 53.65625 15.1875 63.9375 \nQ 23.390625 74.21875 37.203125 74.21875 \nQ 40.921875 74.21875 44.703125 73.484375 \nQ 48.484375 72.75 52.59375 71.296875 \nz\n\" id=\"DejaVuSans-54\"/>\n     </defs>\n     <use xlink:href=\"#DejaVuSans-49\"/>\n     <use x=\"63.623047\" xlink:href=\"#DejaVuSans-55\"/>\n     <use x=\"127.246094\" xlink:href=\"#DejaVuSans-54\"/>\n    </g>\n   </g>\n   <g id=\"text_8\">\n    <!-- 8 -->\n    <g style=\"fill:#fde725;\" transform=\"translate(194.139375 64.319375)scale(0.1 -0.1)\">\n     <defs>\n      <path d=\"M 31.78125 34.625 \nQ 24.75 34.625 20.71875 30.859375 \nQ 16.703125 27.09375 16.703125 20.515625 \nQ 16.703125 13.921875 20.71875 10.15625 \nQ 24.75 6.390625 31.78125 6.390625 \nQ 38.8125 6.390625 42.859375 10.171875 \nQ 46.921875 13.96875 46.921875 20.515625 \nQ 46.921875 27.09375 42.890625 30.859375 \nQ 38.875 34.625 31.78125 34.625 \nz\nM 21.921875 38.8125 \nQ 15.578125 40.375 12.03125 44.71875 \nQ 8.5 49.078125 8.5 55.328125 \nQ 8.5 64.0625 14.71875 69.140625 \nQ 20.953125 74.21875 31.78125 74.21875 \nQ 42.671875 74.21875 48.875 69.140625 \nQ 55.078125 64.0625 55.078125 55.328125 \nQ 55.078125 49.078125 51.53125 44.71875 \nQ 48 40.375 41.703125 38.8125 \nQ 48.828125 37.15625 52.796875 32.3125 \nQ 56.78125 27.484375 56.78125 20.515625 \nQ 56.78125 9.90625 50.3125 4.234375 \nQ 43.84375 -1.421875 31.78125 -1.421875 \nQ 19.734375 -1.421875 13.25 4.234375 \nQ 6.78125 9.90625 6.78125 20.515625 \nQ 6.78125 27.484375 10.78125 32.3125 \nQ 14.796875 37.15625 21.921875 38.8125 \nz\nM 18.3125 54.390625 \nQ 18.3125 48.734375 21.84375 45.5625 \nQ 25.390625 42.390625 31.78125 42.390625 \nQ 38.140625 42.390625 41.71875 45.5625 \nQ 45.3125 48.734375 45.3125 54.390625 \nQ 45.3125 60.0625 41.71875 63.234375 \nQ 38.140625 66.40625 31.78125 66.40625 \nQ 25.390625 66.40625 21.84375 63.234375 \nQ 18.3125 60.0625 18.3125 54.390625 \nz\n\" id=\"DejaVuSans-56\"/>\n     </defs>\n     <use xlink:href=\"#DejaVuSans-56\"/>\n    </g>\n   </g>\n   <g id=\"text_9\">\n    <!-- 21 -->\n    <g style=\"fill:#fde725;\" transform=\"translate(82.238125 173.039375)scale(0.1 -0.1)\">\n     <defs>\n      <path d=\"M 19.1875 8.296875 \nL 53.609375 8.296875 \nL 53.609375 0 \nL 7.328125 0 \nL 7.328125 8.296875 \nQ 12.9375 14.109375 22.625 23.890625 \nQ 32.328125 33.6875 34.8125 36.53125 \nQ 39.546875 41.84375 41.421875 45.53125 \nQ 43.3125 49.21875 43.3125 52.78125 \nQ 43.3125 58.59375 39.234375 62.25 \nQ 35.15625 65.921875 28.609375 65.921875 \nQ 23.96875 65.921875 18.8125 64.3125 \nQ 13.671875 62.703125 7.8125 59.421875 \nL 7.8125 69.390625 \nQ 13.765625 71.78125 18.9375 73 \nQ 24.125 74.21875 28.421875 74.21875 \nQ 39.75 74.21875 46.484375 68.546875 \nQ 53.21875 62.890625 53.21875 53.421875 \nQ 53.21875 48.921875 51.53125 44.890625 \nQ 49.859375 40.875 45.40625 35.40625 \nQ 44.1875 33.984375 37.640625 27.21875 \nQ 31.109375 20.453125 19.1875 8.296875 \nz\n\" id=\"DejaVuSans-50\"/>\n     </defs>\n     <use xlink:href=\"#DejaVuSans-50\"/>\n     <use x=\"63.623047\" xlink:href=\"#DejaVuSans-49\"/>\n    </g>\n   </g>\n   <g id=\"text_10\">\n    <!-- 15 -->\n    <g style=\"fill:#fde725;\" transform=\"translate(190.958125 173.039375)scale(0.1 -0.1)\">\n     <defs>\n      <path d=\"M 10.796875 72.90625 \nL 49.515625 72.90625 \nL 49.515625 64.59375 \nL 19.828125 64.59375 \nL 19.828125 46.734375 \nQ 21.96875 47.46875 24.109375 47.828125 \nQ 26.265625 48.1875 28.421875 48.1875 \nQ 40.625 48.1875 47.75 41.5 \nQ 54.890625 34.8125 54.890625 23.390625 \nQ 54.890625 11.625 47.5625 5.09375 \nQ 40.234375 -1.421875 26.90625 -1.421875 \nQ 22.3125 -1.421875 17.546875 -0.640625 \nQ 12.796875 0.140625 7.71875 1.703125 \nL 7.71875 11.625 \nQ 12.109375 9.234375 16.796875 8.0625 \nQ 21.484375 6.890625 26.703125 6.890625 \nQ 35.15625 6.890625 40.078125 11.328125 \nQ 45.015625 15.765625 45.015625 23.390625 \nQ 45.015625 31 40.078125 35.4375 \nQ 35.15625 39.890625 26.703125 39.890625 \nQ 22.75 39.890625 18.8125 39.015625 \nQ 14.890625 38.140625 10.796875 36.28125 \nz\n\" id=\"DejaVuSans-53\"/>\n     </defs>\n     <use xlink:href=\"#DejaVuSans-49\"/>\n     <use x=\"63.623047\" xlink:href=\"#DejaVuSans-53\"/>\n    </g>\n   </g>\n  </g>\n  <g id=\"axes_2\">\n   <g id=\"patch_7\">\n    <path clip-path=\"url(#paf46df2d5a)\" d=\"M 268.420625 224.64 \nL 268.420625 223.790625 \nL 268.420625 8.049375 \nL 268.420625 7.2 \nL 279.292625 7.2 \nL 279.292625 8.049375 \nL 279.292625 223.790625 \nL 279.292625 224.64 \nz\n\" style=\"fill:#ffffff;stroke:#ffffff;stroke-linejoin:miter;stroke-width:0.01;\"/>\n   </g>\n   <image height=\"217\" id=\"imageeab4443de2\" transform=\"scale(1 -1)translate(0 -217)\" width=\"11\" x=\"268\" xlink:href=\"data:image/png;base64,\niVBORw0KGgoAAAANSUhEUgAAAAsAAADZCAYAAAD2WsoCAAABYUlEQVR4nO3aQW7DMBBDUWkk52Q9Q+9/kLbptkA2egsC4yJZE8QnZ2Q7TuZHfT7H4WfPmqfaseda5+IxC8SCMaYwl2CI86A2qOce1VlAcs6J3238FcfaeK4eAYnZxt0D4/xKkMUQ5yBzynmIMy2/9UwYsTZsgrQbxgziJm0EMXLVUcAupxvE5IwBUxjoHLvI3LKNmPMd2zjX4vPGHSf4/8dNzi3GDRDv0/0iPj/fd9yNNm0Exw3MweoqhdGkDXhESrYxRi4gOM9YQOuZmE0MGNSGYZxTcMBUG6t+OmBUrI0l4hxGE+c1Ydzk3ES87xhQbhPWRn13wCgZih1YYaY2lrWR2jpqY08KmGMWZ+mZnC9pw1Y0thu5oTzmFzjHhlISkJb/koDUM16RyDm1G7T8ts/BgKkb0GPQpUCWn06KBTzWjn3ZgQXnBV8It7zd20t+yCjBuOB9lmKAMzEv+SOQYPwCBCyBaHjgE4oAAAAASUVORK5CYII=\" y=\"-7\"/>\n   <g id=\"matplotlib.axis_3\"/>\n   <g id=\"matplotlib.axis_4\">\n    <g id=\"ytick_3\">\n     <g id=\"line2d_5\">\n      <defs>\n       <path d=\"M 0 0 \nL 3.5 0 \n\" id=\"mfd211a9902\" style=\"stroke:#000000;stroke-width:0.8;\"/>\n      </defs>\n      <g>\n       <use style=\"stroke:#000000;stroke-width:0.8;\" x=\"279.292625\" xlink:href=\"#mfd211a9902\" y=\"209.108571\"/>\n      </g>\n     </g>\n     <g id=\"text_11\">\n      <!-- 20 -->\n      <g transform=\"translate(286.292625 212.90779)scale(0.1 -0.1)\">\n       <use xlink:href=\"#DejaVuSans-50\"/>\n       <use x=\"63.623047\" xlink:href=\"#DejaVuSans-48\"/>\n      </g>\n     </g>\n    </g>\n    <g id=\"ytick_4\">\n     <g id=\"line2d_6\">\n      <g>\n       <use style=\"stroke:#000000;stroke-width:0.8;\" x=\"279.292625\" xlink:href=\"#mfd211a9902\" y=\"183.222857\"/>\n      </g>\n     </g>\n     <g id=\"text_12\">\n      <!-- 40 -->\n      <g transform=\"translate(286.292625 187.022076)scale(0.1 -0.1)\">\n       <defs>\n        <path d=\"M 37.796875 64.3125 \nL 12.890625 25.390625 \nL 37.796875 25.390625 \nz\nM 35.203125 72.90625 \nL 47.609375 72.90625 \nL 47.609375 25.390625 \nL 58.015625 25.390625 \nL 58.015625 17.1875 \nL 47.609375 17.1875 \nL 47.609375 0 \nL 37.796875 0 \nL 37.796875 17.1875 \nL 4.890625 17.1875 \nL 4.890625 26.703125 \nz\n\" id=\"DejaVuSans-52\"/>\n       </defs>\n       <use xlink:href=\"#DejaVuSans-52\"/>\n       <use x=\"63.623047\" xlink:href=\"#DejaVuSans-48\"/>\n      </g>\n     </g>\n    </g>\n    <g id=\"ytick_5\">\n     <g id=\"line2d_7\">\n      <g>\n       <use style=\"stroke:#000000;stroke-width:0.8;\" x=\"279.292625\" xlink:href=\"#mfd211a9902\" y=\"157.337143\"/>\n      </g>\n     </g>\n     <g id=\"text_13\">\n      <!-- 60 -->\n      <g transform=\"translate(286.292625 161.136362)scale(0.1 -0.1)\">\n       <use xlink:href=\"#DejaVuSans-54\"/>\n       <use x=\"63.623047\" xlink:href=\"#DejaVuSans-48\"/>\n      </g>\n     </g>\n    </g>\n    <g id=\"ytick_6\">\n     <g id=\"line2d_8\">\n      <g>\n       <use style=\"stroke:#000000;stroke-width:0.8;\" x=\"279.292625\" xlink:href=\"#mfd211a9902\" y=\"131.451429\"/>\n      </g>\n     </g>\n     <g id=\"text_14\">\n      <!-- 80 -->\n      <g transform=\"translate(286.292625 135.250647)scale(0.1 -0.1)\">\n       <use xlink:href=\"#DejaVuSans-56\"/>\n       <use x=\"63.623047\" xlink:href=\"#DejaVuSans-48\"/>\n      </g>\n     </g>\n    </g>\n    <g id=\"ytick_7\">\n     <g id=\"line2d_9\">\n      <g>\n       <use style=\"stroke:#000000;stroke-width:0.8;\" x=\"279.292625\" xlink:href=\"#mfd211a9902\" y=\"105.565714\"/>\n      </g>\n     </g>\n     <g id=\"text_15\">\n      <!-- 100 -->\n      <g transform=\"translate(286.292625 109.364933)scale(0.1 -0.1)\">\n       <use xlink:href=\"#DejaVuSans-49\"/>\n       <use x=\"63.623047\" xlink:href=\"#DejaVuSans-48\"/>\n       <use x=\"127.246094\" xlink:href=\"#DejaVuSans-48\"/>\n      </g>\n     </g>\n    </g>\n    <g id=\"ytick_8\">\n     <g id=\"line2d_10\">\n      <g>\n       <use style=\"stroke:#000000;stroke-width:0.8;\" x=\"279.292625\" xlink:href=\"#mfd211a9902\" y=\"79.68\"/>\n      </g>\n     </g>\n     <g id=\"text_16\">\n      <!-- 120 -->\n      <g transform=\"translate(286.292625 83.479219)scale(0.1 -0.1)\">\n       <use xlink:href=\"#DejaVuSans-49\"/>\n       <use x=\"63.623047\" xlink:href=\"#DejaVuSans-50\"/>\n       <use x=\"127.246094\" xlink:href=\"#DejaVuSans-48\"/>\n      </g>\n     </g>\n    </g>\n    <g id=\"ytick_9\">\n     <g id=\"line2d_11\">\n      <g>\n       <use style=\"stroke:#000000;stroke-width:0.8;\" x=\"279.292625\" xlink:href=\"#mfd211a9902\" y=\"53.794286\"/>\n      </g>\n     </g>\n     <g id=\"text_17\">\n      <!-- 140 -->\n      <g transform=\"translate(286.292625 57.593504)scale(0.1 -0.1)\">\n       <use xlink:href=\"#DejaVuSans-49\"/>\n       <use x=\"63.623047\" xlink:href=\"#DejaVuSans-52\"/>\n       <use x=\"127.246094\" xlink:href=\"#DejaVuSans-48\"/>\n      </g>\n     </g>\n    </g>\n    <g id=\"ytick_10\">\n     <g id=\"line2d_12\">\n      <g>\n       <use style=\"stroke:#000000;stroke-width:0.8;\" x=\"279.292625\" xlink:href=\"#mfd211a9902\" y=\"27.908571\"/>\n      </g>\n     </g>\n     <g id=\"text_18\">\n      <!-- 160 -->\n      <g transform=\"translate(286.292625 31.70779)scale(0.1 -0.1)\">\n       <use xlink:href=\"#DejaVuSans-49\"/>\n       <use x=\"63.623047\" xlink:href=\"#DejaVuSans-54\"/>\n       <use x=\"127.246094\" xlink:href=\"#DejaVuSans-48\"/>\n      </g>\n     </g>\n    </g>\n   </g>\n   <g id=\"patch_8\">\n    <path d=\"M 268.420625 224.64 \nL 268.420625 223.790625 \nL 268.420625 8.049375 \nL 268.420625 7.2 \nL 279.292625 7.2 \nL 279.292625 8.049375 \nL 279.292625 223.790625 \nL 279.292625 224.64 \nz\n\" style=\"fill:none;stroke:#000000;stroke-linejoin:miter;stroke-width:0.8;\"/>\n   </g>\n  </g>\n </g>\n <defs>\n  <clipPath id=\"p364fa3631b\">\n   <rect height=\"217.44\" width=\"217.44\" x=\"34.240625\" y=\"7.2\"/>\n  </clipPath>\n  <clipPath id=\"paf46df2d5a\">\n   <rect height=\"217.44\" width=\"10.872\" x=\"268.420625\" y=\"7.2\"/>\n  </clipPath>\n </defs>\n</svg>\n",
      "image/png": "[encoded data removed]"
     },
     "metadata": {
      "needs_background": "light"
     }
    }
   ],
   "source": [
    "plot_confusion_matrix(clf, X_test, y_test)  \n",
    "plt.show() "
   ]
  },
  {
   "source": [
    "On veut améliorer le rappel (recall) ou sensibilité et la précision.\n",
    "\n",
    "\n",
    "Le rappel est intuitivement la capacité du classificateur à trouver tous les échantillons positifs.\n",
    "Un mauvais rappel signifie dans notre cas que nous avons sélectionné peu d'éléments pertinents et donc manqué de proposer le programme d'accompagnement à des personnes qui souhaitaient quitter l'entreprise.\n",
    "Or, c'est précisément ce que nous ne voulons pas pour éviter le turn-over.\n",
    "\n",
    "La précision est intuitivement la capacité du classificateur à ne pas étiqueter comme positif un échantillon qui est négatif.\n",
    "Dans notre cas, une mauvaise précision nous fera inscrire au programme d'accompagnement des personnes qui ne souhaitaient pas quitter l'entreprise, ce qui occasionera un coût non nécessaire, en plus de prendre des places qui auraient été plus utiles si elles avaient étaient attribuées aux personnes susceptibles de partir.\n",
    "\n",
    "\n",
    "Le score F1 peut être interprété comme une moyenne pondérée de la précision et du rappel, où un score F1 atteint sa meilleure valeur à 1 et son pire score à 0. La contribution relative de la précision et du rappel au score F1 est égale.\n"
   ],
   "cell_type": "markdown",
   "metadata": {}
  },
  {
   "source": [
    "### Prédiction du taux d'attrition pour les employés de l'entreprise (fichier attrition_test.csv)"
   ],
   "cell_type": "markdown",
   "metadata": {}
  },
  {
   "cell_type": "code",
   "execution_count": 192,
   "metadata": {},
   "outputs": [
    {
     "output_type": "stream",
     "name": "stderr",
     "text": [
      "/home/apprenant/anaconda3/lib/python3.8/site-packages/sklearn/compose/_column_transformer.py:437: FutureWarning: Given feature/column names or counts do not match the ones for the data given during fit. This will fail from v0.24.\n  warnings.warn(\"Given feature/column names or counts do not match \"\n"
     ]
    },
    {
     "output_type": "execute_result",
     "data": {
      "text/plain": [
       "array([[2.26992081e-01, 7.73007919e-01],\n",
       "       [9.89462677e-01, 1.05373228e-02],\n",
       "       [7.83185430e-01, 2.16814570e-01],\n",
       "       [9.28871955e-01, 7.11280452e-02],\n",
       "       [9.80190454e-01, 1.98095458e-02],\n",
       "       [8.93301450e-01, 1.06698550e-01],\n",
       "       [9.73648616e-01, 2.63513836e-02],\n",
       "       [9.79588209e-01, 2.04117915e-02],\n",
       "       [5.39488885e-01, 4.60511115e-01],\n",
       "       [8.41956380e-01, 1.58043620e-01],\n",
       "       [2.92128553e-01, 7.07871447e-01],\n",
       "       [5.74399085e-01, 4.25600915e-01],\n",
       "       [9.98369665e-01, 1.63033464e-03],\n",
       "       [9.87697860e-01, 1.23021400e-02],\n",
       "       [7.63390755e-01, 2.36609245e-01],\n",
       "       [9.96014531e-01, 3.98546887e-03],\n",
       "       [9.96664419e-01, 3.33558090e-03],\n",
       "       [8.84715640e-01, 1.15284360e-01],\n",
       "       [9.32908685e-01, 6.70913146e-02],\n",
       "       [5.98914655e-01, 4.01085345e-01],\n",
       "       [9.94358538e-01, 5.64146183e-03],\n",
       "       [9.35695885e-01, 6.43041150e-02],\n",
       "       [7.48916057e-01, 2.51083943e-01],\n",
       "       [3.43444610e-01, 6.56555390e-01],\n",
       "       [9.32926667e-01, 6.70733331e-02],\n",
       "       [4.43170990e-01, 5.56829010e-01],\n",
       "       [5.89266996e-01, 4.10733004e-01],\n",
       "       [9.14768173e-01, 8.52318266e-02],\n",
       "       [5.96766628e-01, 4.03233372e-01],\n",
       "       [9.39200874e-01, 6.07991264e-02],\n",
       "       [9.65093411e-01, 3.49065891e-02],\n",
       "       [1.19295242e-01, 8.80704758e-01],\n",
       "       [9.83020754e-01, 1.69792462e-02],\n",
       "       [9.30773091e-01, 6.92269090e-02],\n",
       "       [7.76873568e-01, 2.23126432e-01],\n",
       "       [9.95837650e-01, 4.16234975e-03],\n",
       "       [9.34519724e-01, 6.54802758e-02],\n",
       "       [6.94790157e-01, 3.05209843e-01],\n",
       "       [9.84559057e-01, 1.54409428e-02],\n",
       "       [9.51165044e-01, 4.88349562e-02],\n",
       "       [9.00649836e-01, 9.93501642e-02],\n",
       "       [9.97040884e-01, 2.95911597e-03],\n",
       "       [9.55527124e-01, 4.44728764e-02],\n",
       "       [9.52779485e-01, 4.72205149e-02],\n",
       "       [9.99687831e-01, 3.12169172e-04],\n",
       "       [9.70519845e-01, 2.94801554e-02],\n",
       "       [6.92525002e-01, 3.07474998e-01],\n",
       "       [9.97761451e-01, 2.23854901e-03],\n",
       "       [9.78759267e-01, 2.12407327e-02],\n",
       "       [5.79494803e-01, 4.20505197e-01],\n",
       "       [9.95497089e-01, 4.50291143e-03],\n",
       "       [9.91984825e-01, 8.01517549e-03],\n",
       "       [9.94301809e-01, 5.69819143e-03],\n",
       "       [6.69477558e-01, 3.30522442e-01],\n",
       "       [3.21162475e-01, 6.78837525e-01],\n",
       "       [9.20989886e-01, 7.90101138e-02],\n",
       "       [9.63575850e-01, 3.64241495e-02],\n",
       "       [9.88696324e-01, 1.13036760e-02],\n",
       "       [9.84870578e-01, 1.51294224e-02],\n",
       "       [9.91757914e-01, 8.24208554e-03],\n",
       "       [8.25991016e-01, 1.74008984e-01],\n",
       "       [9.98612792e-01, 1.38720826e-03],\n",
       "       [9.99788641e-01, 2.11358895e-04],\n",
       "       [9.95269584e-01, 4.73041599e-03],\n",
       "       [8.81488448e-01, 1.18511552e-01],\n",
       "       [9.99216494e-01, 7.83506495e-04],\n",
       "       [9.67987927e-01, 3.20120734e-02],\n",
       "       [9.57463644e-01, 4.25363557e-02],\n",
       "       [9.29947873e-01, 7.00521271e-02],\n",
       "       [7.11810927e-01, 2.88189073e-01],\n",
       "       [9.61844859e-01, 3.81551408e-02],\n",
       "       [9.98777221e-01, 1.22277873e-03],\n",
       "       [4.84468374e-01, 5.15531626e-01],\n",
       "       [7.96903751e-01, 2.03096249e-01],\n",
       "       [7.54378433e-01, 2.45621567e-01],\n",
       "       [8.15612137e-01, 1.84387863e-01],\n",
       "       [3.87912721e-01, 6.12087279e-01],\n",
       "       [8.49961112e-01, 1.50038888e-01],\n",
       "       [8.60745198e-01, 1.39254802e-01],\n",
       "       [8.43418874e-01, 1.56581126e-01],\n",
       "       [3.78460623e-01, 6.21539377e-01],\n",
       "       [9.98778483e-01, 1.22151679e-03],\n",
       "       [8.58738390e-01, 1.41261610e-01],\n",
       "       [9.43988541e-01, 5.60114592e-02],\n",
       "       [9.29059161e-01, 7.09408389e-02],\n",
       "       [9.64107587e-01, 3.58924130e-02],\n",
       "       [8.94503411e-01, 1.05496589e-01],\n",
       "       [9.97611678e-01, 2.38832196e-03],\n",
       "       [9.71228560e-01, 2.87714403e-02],\n",
       "       [3.31548540e-01, 6.68451460e-01],\n",
       "       [4.79050620e-01, 5.20949380e-01],\n",
       "       [9.92040390e-01, 7.95960966e-03],\n",
       "       [9.83072849e-01, 1.69271515e-02],\n",
       "       [9.61977664e-01, 3.80223363e-02],\n",
       "       [9.96467332e-01, 3.53266846e-03],\n",
       "       [7.02152670e-01, 2.97847330e-01],\n",
       "       [8.21223395e-01, 1.78776605e-01],\n",
       "       [9.91370251e-01, 8.62974945e-03],\n",
       "       [9.34016105e-01, 6.59838954e-02],\n",
       "       [7.97377009e-01, 2.02622991e-01],\n",
       "       [8.66722716e-01, 1.33277284e-01],\n",
       "       [1.89313492e-01, 8.10686508e-01],\n",
       "       [9.44776511e-01, 5.52234895e-02],\n",
       "       [9.94695924e-01, 5.30407630e-03],\n",
       "       [9.93226678e-01, 6.77332189e-03],\n",
       "       [6.84988538e-01, 3.15011462e-01],\n",
       "       [9.94199450e-01, 5.80054996e-03],\n",
       "       [9.94242115e-01, 5.75788458e-03],\n",
       "       [9.87360093e-01, 1.26399066e-02],\n",
       "       [9.99764368e-01, 2.35631681e-04],\n",
       "       [9.88102875e-01, 1.18971251e-02],\n",
       "       [5.34191942e-01, 4.65808058e-01],\n",
       "       [9.60571947e-01, 3.94280533e-02],\n",
       "       [8.87468852e-01, 1.12531148e-01],\n",
       "       [9.97420527e-01, 2.57947345e-03],\n",
       "       [6.78085679e-01, 3.21914321e-01],\n",
       "       [9.62508060e-01, 3.74919401e-02],\n",
       "       [9.46282635e-01, 5.37173647e-02],\n",
       "       [5.90806200e-01, 4.09193800e-01],\n",
       "       [9.63903112e-01, 3.60968877e-02],\n",
       "       [9.89784873e-01, 1.02151270e-02],\n",
       "       [7.84390301e-01, 2.15609699e-01],\n",
       "       [9.82626552e-01, 1.73734480e-02],\n",
       "       [9.96343435e-01, 3.65656527e-03],\n",
       "       [9.54154194e-01, 4.58458063e-02],\n",
       "       [9.02416815e-01, 9.75831845e-02],\n",
       "       [8.85907746e-01, 1.14092254e-01],\n",
       "       [6.00282609e-01, 3.99717391e-01],\n",
       "       [8.92610701e-01, 1.07389299e-01],\n",
       "       [7.25289375e-01, 2.74710625e-01],\n",
       "       [9.82874857e-01, 1.71251435e-02],\n",
       "       [9.92626897e-01, 7.37310267e-03],\n",
       "       [9.62825186e-01, 3.71748139e-02],\n",
       "       [9.67843294e-01, 3.21567063e-02],\n",
       "       [8.21472948e-01, 1.78527052e-01],\n",
       "       [9.46565917e-01, 5.34340827e-02],\n",
       "       [9.71334691e-01, 2.86653088e-02],\n",
       "       [9.50094698e-01, 4.99053022e-02],\n",
       "       [9.62584487e-01, 3.74155135e-02],\n",
       "       [8.22894523e-01, 1.77105477e-01],\n",
       "       [9.86644378e-01, 1.33556218e-02],\n",
       "       [9.71484873e-01, 2.85151269e-02],\n",
       "       [9.77737825e-01, 2.22621749e-02],\n",
       "       [9.75658840e-01, 2.43411604e-02],\n",
       "       [9.83666721e-01, 1.63332792e-02],\n",
       "       [4.10112721e-01, 5.89887279e-01],\n",
       "       [8.36671571e-01, 1.63328429e-01],\n",
       "       [9.94313089e-01, 5.68691116e-03],\n",
       "       [9.76131283e-01, 2.38687174e-02],\n",
       "       [3.25291304e-01, 6.74708696e-01],\n",
       "       [9.93179159e-01, 6.82084134e-03],\n",
       "       [8.32686174e-01, 1.67313826e-01],\n",
       "       [5.86282442e-01, 4.13717558e-01],\n",
       "       [8.54540745e-01, 1.45459255e-01],\n",
       "       [9.33386800e-01, 6.66132000e-02],\n",
       "       [8.23264417e-01, 1.76735583e-01],\n",
       "       [9.97457997e-01, 2.54200296e-03],\n",
       "       [5.21970620e-01, 4.78029380e-01],\n",
       "       [9.51417184e-01, 4.85828158e-02],\n",
       "       [9.85125875e-01, 1.48741248e-02],\n",
       "       [9.35305312e-01, 6.46946880e-02],\n",
       "       [9.25860279e-01, 7.41397213e-02],\n",
       "       [9.40787575e-01, 5.92124250e-02],\n",
       "       [8.35492867e-01, 1.64507133e-01],\n",
       "       [9.94604498e-01, 5.39550222e-03],\n",
       "       [9.00005932e-01, 9.99940684e-02],\n",
       "       [9.93660273e-01, 6.33972734e-03],\n",
       "       [9.08575022e-01, 9.14249781e-02],\n",
       "       [9.58893781e-01, 4.11062186e-02],\n",
       "       [9.89493432e-01, 1.05065675e-02],\n",
       "       [8.27329955e-01, 1.72670045e-01],\n",
       "       [9.80909419e-01, 1.90905807e-02],\n",
       "       [9.34529338e-01, 6.54706621e-02],\n",
       "       [9.67150699e-01, 3.28493013e-02],\n",
       "       [5.22703094e-01, 4.77296906e-01],\n",
       "       [9.81446811e-01, 1.85531891e-02],\n",
       "       [9.97226453e-01, 2.77354742e-03],\n",
       "       [7.73462121e-01, 2.26537879e-01],\n",
       "       [7.86342941e-01, 2.13657059e-01],\n",
       "       [6.37857382e-02, 9.36214262e-01],\n",
       "       [9.21413946e-01, 7.85860543e-02],\n",
       "       [9.93431606e-01, 6.56839413e-03],\n",
       "       [9.99476191e-01, 5.23809233e-04],\n",
       "       [6.98733534e-01, 3.01266466e-01],\n",
       "       [9.02828194e-01, 9.71718060e-02],\n",
       "       [2.72149992e-01, 7.27850008e-01],\n",
       "       [9.92453309e-01, 7.54669123e-03],\n",
       "       [6.52901460e-01, 3.47098540e-01],\n",
       "       [9.56546372e-01, 4.34536283e-02],\n",
       "       [6.23314340e-01, 3.76685660e-01],\n",
       "       [5.49525388e-01, 4.50474612e-01],\n",
       "       [8.08997836e-01, 1.91002164e-01],\n",
       "       [9.83576457e-01, 1.64235427e-02],\n",
       "       [7.99774717e-01, 2.00225283e-01],\n",
       "       [7.45922288e-01, 2.54077712e-01],\n",
       "       [8.48208900e-01, 1.51791100e-01],\n",
       "       [9.23965929e-01, 7.60340714e-02],\n",
       "       [9.85211214e-01, 1.47887856e-02],\n",
       "       [9.44008691e-01, 5.59913089e-02],\n",
       "       [9.99558381e-01, 4.41618533e-04],\n",
       "       [7.68255354e-01, 2.31744646e-01],\n",
       "       [9.93094441e-01, 6.90555863e-03],\n",
       "       [9.97734557e-01, 2.26544282e-03],\n",
       "       [7.56498830e-01, 2.43501170e-01],\n",
       "       [9.25418234e-01, 7.45817658e-02],\n",
       "       [8.84623343e-01, 1.15376657e-01],\n",
       "       [5.19107609e-01, 4.80892391e-01],\n",
       "       [9.83948245e-01, 1.60517552e-02],\n",
       "       [9.98867183e-01, 1.13281678e-03],\n",
       "       [9.96447481e-01, 3.55251894e-03],\n",
       "       [9.51970115e-01, 4.80298855e-02],\n",
       "       [9.96156664e-01, 3.84333603e-03],\n",
       "       [9.29515146e-01, 7.04848536e-02],\n",
       "       [8.19979404e-01, 1.80020596e-01],\n",
       "       [9.51831170e-01, 4.81688297e-02],\n",
       "       [8.14332779e-01, 1.85667221e-01],\n",
       "       [9.59081183e-01, 4.09188169e-02],\n",
       "       [8.01195965e-01, 1.98804035e-01],\n",
       "       [6.82082500e-01, 3.17917500e-01],\n",
       "       [8.16846184e-01, 1.83153816e-01],\n",
       "       [9.99915604e-01, 8.43959280e-05],\n",
       "       [9.20443099e-01, 7.95569008e-02],\n",
       "       [7.49951583e-01, 2.50048417e-01],\n",
       "       [9.80159072e-01, 1.98409281e-02],\n",
       "       [9.91140762e-01, 8.85923829e-03],\n",
       "       [9.40937174e-01, 5.90628258e-02],\n",
       "       [6.28007496e-01, 3.71992504e-01],\n",
       "       [9.91721370e-01, 8.27862985e-03],\n",
       "       [9.11751163e-01, 8.82488369e-02],\n",
       "       [9.54244218e-01, 4.57557820e-02],\n",
       "       [9.80644442e-01, 1.93555576e-02],\n",
       "       [9.95879733e-01, 4.12026738e-03],\n",
       "       [9.93406866e-01, 6.59313356e-03],\n",
       "       [9.70533466e-01, 2.94665339e-02],\n",
       "       [9.71471615e-01, 2.85283854e-02],\n",
       "       [8.69877624e-01, 1.30122376e-01],\n",
       "       [9.79608794e-01, 2.03912061e-02],\n",
       "       [9.96467023e-01, 3.53297658e-03],\n",
       "       [8.98464170e-01, 1.01535830e-01],\n",
       "       [8.43627420e-01, 1.56372580e-01],\n",
       "       [8.01391580e-01, 1.98608420e-01],\n",
       "       [8.12666029e-01, 1.87333971e-01],\n",
       "       [6.35520096e-01, 3.64479904e-01],\n",
       "       [9.11596309e-01, 8.84036911e-02],\n",
       "       [6.65488116e-01, 3.34511884e-01],\n",
       "       [9.62522656e-01, 3.74773442e-02],\n",
       "       [8.40731345e-01, 1.59268655e-01],\n",
       "       [9.15074265e-01, 8.49257347e-02],\n",
       "       [9.26711537e-01, 7.32884626e-02],\n",
       "       [9.99046829e-01, 9.53170738e-04],\n",
       "       [4.36692269e-01, 5.63307731e-01],\n",
       "       [9.82411978e-01, 1.75880223e-02],\n",
       "       [9.92637686e-01, 7.36231393e-03],\n",
       "       [8.25667370e-01, 1.74332630e-01],\n",
       "       [9.67516639e-01, 3.24833611e-02],\n",
       "       [9.99519765e-01, 4.80234533e-04],\n",
       "       [8.48873764e-01, 1.51126236e-01],\n",
       "       [9.00266527e-01, 9.97334735e-02],\n",
       "       [9.83792268e-01, 1.62077317e-02],\n",
       "       [9.94980246e-01, 5.01975401e-03],\n",
       "       [5.61724230e-01, 4.38275770e-01],\n",
       "       [8.06751267e-01, 1.93248733e-01],\n",
       "       [1.27808560e-01, 8.72191440e-01],\n",
       "       [5.79817327e-01, 4.20182673e-01],\n",
       "       [9.00184024e-01, 9.98159756e-02],\n",
       "       [5.03473381e-01, 4.96526619e-01],\n",
       "       [9.63836466e-01, 3.61635337e-02],\n",
       "       [7.28442762e-01, 2.71557238e-01],\n",
       "       [9.84924466e-01, 1.50755336e-02],\n",
       "       [9.44003068e-01, 5.59969317e-02],\n",
       "       [9.18613637e-01, 8.13863626e-02],\n",
       "       [7.57785816e-01, 2.42214184e-01],\n",
       "       [7.19834554e-01, 2.80165446e-01],\n",
       "       [5.97888880e-01, 4.02111120e-01],\n",
       "       [5.67131973e-01, 4.32868027e-01],\n",
       "       [9.96689826e-01, 3.31017409e-03],\n",
       "       [3.87398638e-01, 6.12601362e-01],\n",
       "       [6.83631602e-01, 3.16368398e-01],\n",
       "       [8.76340778e-01, 1.23659222e-01],\n",
       "       [9.39786890e-01, 6.02131097e-02],\n",
       "       [9.65613517e-01, 3.43864834e-02],\n",
       "       [9.96709250e-01, 3.29074960e-03],\n",
       "       [9.96494674e-01, 3.50532564e-03],\n",
       "       [8.64831543e-01, 1.35168457e-01],\n",
       "       [9.99105567e-01, 8.94433024e-04],\n",
       "       [8.78267878e-01, 1.21732122e-01],\n",
       "       [8.72943434e-01, 1.27056566e-01],\n",
       "       [9.93755335e-01, 6.24466531e-03],\n",
       "       [9.99485693e-01, 5.14307124e-04],\n",
       "       [9.96417704e-01, 3.58229607e-03],\n",
       "       [9.98117023e-01, 1.88297745e-03],\n",
       "       [9.98674205e-01, 1.32579504e-03],\n",
       "       [9.91068069e-01, 8.93193072e-03],\n",
       "       [9.99579869e-01, 4.20130571e-04],\n",
       "       [5.38907952e-01, 4.61092048e-01],\n",
       "       [9.97849647e-01, 2.15035269e-03],\n",
       "       [9.98873478e-01, 1.12652156e-03],\n",
       "       [9.46176282e-01, 5.38237178e-02],\n",
       "       [7.15621870e-01, 2.84378130e-01],\n",
       "       [9.99331761e-01, 6.68239384e-04],\n",
       "       [9.93260883e-01, 6.73911686e-03],\n",
       "       [5.36865759e-01, 4.63134241e-01],\n",
       "       [8.33056154e-01, 1.66943846e-01],\n",
       "       [9.95134951e-01, 4.86504871e-03],\n",
       "       [9.69214710e-01, 3.07852899e-02],\n",
       "       [5.34532627e-01, 4.65467373e-01],\n",
       "       [3.05567090e-01, 6.94432910e-01],\n",
       "       [8.78228754e-01, 1.21771246e-01],\n",
       "       [9.82147579e-01, 1.78524214e-02],\n",
       "       [8.84482740e-01, 1.15517260e-01],\n",
       "       [9.91775539e-01, 8.22446108e-03],\n",
       "       [8.16123209e-01, 1.83876791e-01],\n",
       "       [9.86069368e-01, 1.39306319e-02],\n",
       "       [8.60936800e-01, 1.39063200e-01],\n",
       "       [9.97439571e-01, 2.56042936e-03],\n",
       "       [8.47386782e-01, 1.52613218e-01],\n",
       "       [2.72428092e-01, 7.27571908e-01],\n",
       "       [7.40113852e-01, 2.59886148e-01],\n",
       "       [7.86630445e-01, 2.13369555e-01],\n",
       "       [9.65988348e-01, 3.40116516e-02],\n",
       "       [9.69915022e-01, 3.00849780e-02],\n",
       "       [9.85063516e-01, 1.49364844e-02],\n",
       "       [9.85323714e-01, 1.46762861e-02],\n",
       "       [9.44881812e-01, 5.51181884e-02],\n",
       "       [9.73495391e-01, 2.65046087e-02],\n",
       "       [9.98550342e-01, 1.44965789e-03],\n",
       "       [9.92461532e-01, 7.53846780e-03],\n",
       "       [8.18950769e-01, 1.81049231e-01],\n",
       "       [9.25829730e-01, 7.41702695e-02],\n",
       "       [6.67119799e-01, 3.32880201e-01],\n",
       "       [9.10562040e-01, 8.94379596e-02],\n",
       "       [7.94645404e-01, 2.05354596e-01],\n",
       "       [9.97497496e-01, 2.50250369e-03],\n",
       "       [9.81406207e-01, 1.85937927e-02],\n",
       "       [7.37347910e-01, 2.62652090e-01],\n",
       "       [9.99458904e-01, 5.41096016e-04],\n",
       "       [9.89488492e-01, 1.05115079e-02],\n",
       "       [9.55053471e-01, 4.49465290e-02],\n",
       "       [9.10500165e-01, 8.94998347e-02],\n",
       "       [8.52470426e-01, 1.47529574e-01],\n",
       "       [9.55926783e-01, 4.40732165e-02],\n",
       "       [7.43417972e-01, 2.56582028e-01],\n",
       "       [9.65199672e-01, 3.48003282e-02],\n",
       "       [6.33418984e-01, 3.66581016e-01],\n",
       "       [9.97666650e-01, 2.33335023e-03],\n",
       "       [9.88935887e-01, 1.10641129e-02],\n",
       "       [9.09192441e-01, 9.08075591e-02],\n",
       "       [6.22675008e-01, 3.77324992e-01],\n",
       "       [9.31238799e-01, 6.87612011e-02],\n",
       "       [9.11853045e-01, 8.81469552e-02],\n",
       "       [8.97416321e-01, 1.02583679e-01],\n",
       "       [2.60817332e-01, 7.39182668e-01],\n",
       "       [9.82727247e-01, 1.72727526e-02],\n",
       "       [1.33399443e-01, 8.66600557e-01],\n",
       "       [9.90965499e-01, 9.03450070e-03],\n",
       "       [7.62747133e-01, 2.37252867e-01],\n",
       "       [7.20465353e-01, 2.79534647e-01],\n",
       "       [9.92446620e-01, 7.55337977e-03],\n",
       "       [5.97146222e-01, 4.02853778e-01],\n",
       "       [9.30450674e-01, 6.95493264e-02],\n",
       "       [9.98712209e-01, 1.28779089e-03],\n",
       "       [9.34500256e-01, 6.54997435e-02],\n",
       "       [9.98729328e-01, 1.27067220e-03],\n",
       "       [9.15666281e-01, 8.43337186e-02],\n",
       "       [9.91507785e-01, 8.49221493e-03],\n",
       "       [9.94054937e-01, 5.94506280e-03],\n",
       "       [9.25642225e-01, 7.43577749e-02],\n",
       "       [8.04119579e-01, 1.95880421e-01],\n",
       "       [6.21731066e-01, 3.78268934e-01],\n",
       "       [9.46700000e-01, 5.33000002e-02]])"
      ]
     },
     "metadata": {},
     "execution_count": 192
    }
   ],
   "source": [
    "attrition_score_pred = clf.predict_proba(test_df)\n",
    "attrition_score_pred"
   ]
  },
  {
   "cell_type": "code",
   "execution_count": 193,
   "metadata": {},
   "outputs": [
    {
     "output_type": "stream",
     "name": "stderr",
     "text": [
      "/home/apprenant/anaconda3/lib/python3.8/site-packages/sklearn/compose/_column_transformer.py:437: FutureWarning: Given feature/column names or counts do not match the ones for the data given during fit. This will fail from v0.24.\n  warnings.warn(\"Given feature/column names or counts do not match \"\n"
     ]
    },
    {
     "output_type": "execute_result",
     "data": {
      "text/plain": [
       "array([1, 0, 0, 0, 0, 0, 0, 0, 0, 0, 1, 0, 0, 0, 0, 0, 0, 0, 0, 0, 0, 0,\n",
       "       0, 1, 0, 1, 0, 0, 0, 0, 0, 1, 0, 0, 0, 0, 0, 0, 0, 0, 0, 0, 0, 0,\n",
       "       0, 0, 0, 0, 0, 0, 0, 0, 0, 0, 1, 0, 0, 0, 0, 0, 0, 0, 0, 0, 0, 0,\n",
       "       0, 0, 0, 0, 0, 0, 1, 0, 0, 0, 1, 0, 0, 0, 1, 0, 0, 0, 0, 0, 0, 0,\n",
       "       0, 1, 1, 0, 0, 0, 0, 0, 0, 0, 0, 0, 0, 1, 0, 0, 0, 0, 0, 0, 0, 0,\n",
       "       0, 0, 0, 0, 0, 0, 0, 0, 0, 0, 0, 0, 0, 0, 0, 0, 0, 0, 0, 0, 0, 0,\n",
       "       0, 0, 0, 0, 0, 0, 0, 0, 0, 0, 0, 0, 0, 1, 0, 0, 0, 1, 0, 0, 0, 0,\n",
       "       0, 0, 0, 0, 0, 0, 0, 0, 0, 0, 0, 0, 0, 0, 0, 0, 0, 0, 0, 0, 0, 0,\n",
       "       0, 0, 0, 1, 0, 0, 0, 0, 0, 1, 0, 0, 0, 0, 0, 0, 0, 0, 0, 0, 0, 0,\n",
       "       0, 0, 0, 0, 0, 0, 0, 0, 0, 0, 0, 0, 0, 0, 0, 0, 0, 0, 0, 0, 0, 0,\n",
       "       0, 0, 0, 0, 0, 0, 0, 0, 0, 0, 0, 0, 0, 0, 0, 0, 0, 0, 0, 0, 0, 0,\n",
       "       0, 0, 0, 0, 0, 0, 0, 0, 1, 0, 0, 0, 0, 0, 0, 0, 0, 0, 0, 0, 1, 0,\n",
       "       0, 0, 0, 0, 0, 0, 0, 0, 0, 0, 0, 0, 1, 0, 0, 0, 0, 0, 0, 0, 0, 0,\n",
       "       0, 0, 0, 0, 0, 0, 0, 0, 0, 0, 0, 0, 0, 0, 0, 0, 0, 0, 0, 0, 1, 0,\n",
       "       0, 0, 0, 0, 0, 0, 0, 0, 1, 0, 0, 0, 0, 0, 0, 0, 0, 0, 0, 0, 0, 0,\n",
       "       0, 0, 0, 0, 0, 0, 0, 0, 0, 0, 0, 0, 0, 0, 0, 0, 0, 0, 0, 0, 0, 1,\n",
       "       0, 1, 0, 0, 0, 0, 0, 0, 0, 0, 0, 0, 0, 0, 0, 0, 0, 0])"
      ]
     },
     "metadata": {},
     "execution_count": 193
    }
   ],
   "source": [
    "attrition_pred = clf.predict(test_df)\n",
    "attrition_pred"
   ]
  }
 ]
}